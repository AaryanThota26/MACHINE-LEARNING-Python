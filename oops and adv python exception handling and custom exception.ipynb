{
 "cells": [
  {
   "cell_type": "markdown",
   "id": "feadffbd-719f-463d-9097-f8acd95370b9",
   "metadata": {},
   "source": [
    "## OOPS Tutorial in python"
   ]
  },
  {
   "cell_type": "code",
   "execution_count": 1,
   "id": "cc6417c9-701c-4a6b-ab2e-f4a5998e142b",
   "metadata": {},
   "outputs": [],
   "source": [
    "class car():\n",
    "         # def is constructor \n",
    "        def __init__(self,window,door,enginetype):\n",
    "            self.windows=window\n",
    "            self.doors=door\n",
    "            self.enginetype=enginetype\n",
    "        def self_driving(self):\n",
    "            return \"this is a {}\".format(self.enginetype)"
   ]
  },
  {
   "cell_type": "code",
   "execution_count": 3,
   "id": "7680d28e-4301-4bc4-ad9e-4ea9a5ceb0a6",
   "metadata": {},
   "outputs": [],
   "source": [
    "car1=car(4,5,'petrol')"
   ]
  },
  {
   "cell_type": "code",
   "execution_count": 4,
   "id": "cc1ac829-e83d-441a-a89f-29a473b0e831",
   "metadata": {},
   "outputs": [],
   "source": [
    "car2=car(3,5,'diesel')"
   ]
  },
  {
   "cell_type": "code",
   "execution_count": 7,
   "id": "40292029-2c10-4af4-83ae-e21f3a7d81ea",
   "metadata": {},
   "outputs": [
    {
     "data": {
      "text/plain": [
       "4"
      ]
     },
     "execution_count": 7,
     "metadata": {},
     "output_type": "execute_result"
    }
   ],
   "source": [
    "car1.windows"
   ]
  },
  {
   "cell_type": "code",
   "execution_count": 9,
   "id": "fbb003a4-af35-4f46-ba42-5c33d12ebfbe",
   "metadata": {},
   "outputs": [
    {
     "data": {
      "text/plain": [
       "5"
      ]
     },
     "execution_count": 9,
     "metadata": {},
     "output_type": "execute_result"
    }
   ],
   "source": [
    "car2.doors"
   ]
  },
  {
   "cell_type": "code",
   "execution_count": 11,
   "id": "e0b3ac25-79dd-45ac-a8a0-2c9d0725813b",
   "metadata": {},
   "outputs": [
    {
     "data": {
      "text/plain": [
       "'this is a petrol'"
      ]
     },
     "execution_count": 11,
     "metadata": {},
     "output_type": "execute_result"
    }
   ],
   "source": [
    "car1.self_driving()"
   ]
  },
  {
   "cell_type": "code",
   "execution_count": 13,
   "id": "d8d2c8f4-3eef-4369-adb0-58a5604782ca",
   "metadata": {},
   "outputs": [
    {
     "name": "stdout",
     "output_type": "stream",
     "text": [
      "diesel\n"
     ]
    }
   ],
   "source": [
    "# if we print the output through the print statement there will be no (' ') symbol\n",
    "print(car2.enginetype)"
   ]
  },
  {
   "cell_type": "code",
   "execution_count": 15,
   "id": "403ca0ce-f5a5-4130-b79b-deb0c61acd53",
   "metadata": {},
   "outputs": [
    {
     "data": {
      "text/plain": [
       "['__class__',\n",
       " '__delattr__',\n",
       " '__dict__',\n",
       " '__dir__',\n",
       " '__doc__',\n",
       " '__eq__',\n",
       " '__format__',\n",
       " '__ge__',\n",
       " '__getattribute__',\n",
       " '__getstate__',\n",
       " '__gt__',\n",
       " '__hash__',\n",
       " '__init__',\n",
       " '__init_subclass__',\n",
       " '__le__',\n",
       " '__lt__',\n",
       " '__module__',\n",
       " '__ne__',\n",
       " '__new__',\n",
       " '__reduce__',\n",
       " '__reduce_ex__',\n",
       " '__repr__',\n",
       " '__setattr__',\n",
       " '__sizeof__',\n",
       " '__str__',\n",
       " '__subclasshook__',\n",
       " '__weakref__',\n",
       " 'doors',\n",
       " 'enginetype',\n",
       " 'self_driving',\n",
       " 'windows']"
      ]
     },
     "execution_count": 15,
     "metadata": {},
     "output_type": "execute_result"
    }
   ],
   "source": [
    "dir(car1)"
   ]
  },
  {
   "cell_type": "code",
   "execution_count": 17,
   "id": "11914112-c7bf-406d-b3ac-0bd5b5dbd166",
   "metadata": {},
   "outputs": [],
   "source": [
    "# we can initialise the value like this or like car1=car(4,5,'petrol') by creating a def\n",
    "car1.windows=5\n",
    "car1.doors=4\n"
   ]
  },
  {
   "cell_type": "code",
   "execution_count": 19,
   "id": "e7f72491-7b72-4fe9-b60e-a9b3feb6bb66",
   "metadata": {},
   "outputs": [
    {
     "data": {
      "text/plain": [
       "5"
      ]
     },
     "execution_count": 19,
     "metadata": {},
     "output_type": "execute_result"
    }
   ],
   "source": [
    "car1.windows"
   ]
  },
  {
   "cell_type": "code",
   "execution_count": 21,
   "id": "6e0c9c6f-d332-4db7-b438-28bd838c0cfc",
   "metadata": {},
   "outputs": [
    {
     "ename": "TypeError",
     "evalue": "car.__init__() missing 3 required positional arguments: 'window', 'door', and 'enginetype'",
     "output_type": "error",
     "traceback": [
      "\u001b[1;31m---------------------------------------------------------------------------\u001b[0m",
      "\u001b[1;31mTypeError\u001b[0m                                 Traceback (most recent call last)",
      "Cell \u001b[1;32mIn[21], line 1\u001b[0m\n\u001b[1;32m----> 1\u001b[0m car2\u001b[38;5;241m=\u001b[39mcar()\n",
      "\u001b[1;31mTypeError\u001b[0m: car.__init__() missing 3 required positional arguments: 'window', 'door', and 'enginetype'"
     ]
    }
   ],
   "source": [
    "car2=car()"
   ]
  },
  {
   "cell_type": "code",
   "execution_count": null,
   "id": "634bea3e-c169-4905-97b5-c6e7ac29947c",
   "metadata": {},
   "outputs": [],
   "source": [
    "car2.windows=3\n",
    "car2.doors=6"
   ]
  },
  {
   "cell_type": "code",
   "execution_count": 24,
   "id": "020e5c60-2846-4e06-8bf9-ab228273c905",
   "metadata": {},
   "outputs": [
    {
     "data": {
      "text/plain": [
       "3"
      ]
     },
     "execution_count": 24,
     "metadata": {},
     "output_type": "execute_result"
    }
   ],
   "source": [
    "car2.windows"
   ]
  },
  {
   "cell_type": "code",
   "execution_count": 26,
   "id": "fee6d1f9-79eb-4b0d-93b0-1859b0c71ec2",
   "metadata": {},
   "outputs": [],
   "source": [
    "car2.enginetype='petrol'"
   ]
  },
  {
   "cell_type": "code",
   "execution_count": 28,
   "id": "ba23a9e6-43e1-4cf5-9c4a-d96b4b16dcb9",
   "metadata": {},
   "outputs": [
    {
     "data": {
      "text/plain": [
       "'petrol'"
      ]
     },
     "execution_count": 28,
     "metadata": {},
     "output_type": "execute_result"
    }
   ],
   "source": [
    "car2.enginetype"
   ]
  },
  {
   "cell_type": "markdown",
   "id": "33997849-4186-40a4-9567-989ba2e21951",
   "metadata": {},
   "source": [
    "## Python OOPS public,protected and private"
   ]
  },
  {
   "cell_type": "code",
   "execution_count": 31,
   "id": "676091c1-94dd-4bb1-9d10-17db622d7045",
   "metadata": {},
   "outputs": [],
   "source": [
    "# all the class variables are public\n",
    "class Car():\n",
    "         # def is constructor \n",
    "        def __init__(self,window,door,enginetype):\n",
    "            self.windows=window\n",
    "            self.doors=door\n",
    "            self.enginetype=enginetype"
   ]
  },
  {
   "cell_type": "code",
   "execution_count": 33,
   "id": "8acd35f3-8949-4c71-9e99-17e96ada5f0f",
   "metadata": {},
   "outputs": [],
   "source": [
    "audi=Car(4,5,'diesel')"
   ]
  },
  {
   "cell_type": "code",
   "execution_count": 35,
   "id": "742ae822-374e-42ad-810f-f5b7cb37d6da",
   "metadata": {},
   "outputs": [],
   "source": [
    "audi.windows=6"
   ]
  },
  {
   "cell_type": "code",
   "execution_count": 37,
   "id": "cdcf2ffa-c5fb-4a99-9e61-fb0ed9d3f120",
   "metadata": {},
   "outputs": [
    {
     "data": {
      "text/plain": [
       "<__main__.Car at 0x17d0bf7a900>"
      ]
     },
     "execution_count": 37,
     "metadata": {},
     "output_type": "execute_result"
    }
   ],
   "source": [
    "audi"
   ]
  },
  {
   "cell_type": "code",
   "execution_count": 39,
   "id": "7d65e5a1-089f-45d1-b753-24f35c189a56",
   "metadata": {},
   "outputs": [],
   "source": [
    "#protected\n",
    "class Truck(Car):\n",
    "         # def is constructor \n",
    "        def __init__(self,windows,doors,enginetype,horsepower):\n",
    "            super().__init__(windows,doors,enginetype)\n",
    "            self.horsepowwer=horsepower"
   ]
  },
  {
   "cell_type": "code",
   "execution_count": 41,
   "id": "29fa4461-0aaa-4ee6-bcb8-c9f589d92078",
   "metadata": {},
   "outputs": [],
   "source": [
    "truck=Truck(4,4,'diesel',4000)"
   ]
  },
  {
   "cell_type": "code",
   "execution_count": 43,
   "id": "cb91d455-dfed-42a6-9e14-b1eccca6202a",
   "metadata": {},
   "outputs": [
    {
     "data": {
      "text/plain": [
       "['__class__',\n",
       " '__delattr__',\n",
       " '__dict__',\n",
       " '__dir__',\n",
       " '__doc__',\n",
       " '__eq__',\n",
       " '__format__',\n",
       " '__ge__',\n",
       " '__getattribute__',\n",
       " '__getstate__',\n",
       " '__gt__',\n",
       " '__hash__',\n",
       " '__init__',\n",
       " '__init_subclass__',\n",
       " '__le__',\n",
       " '__lt__',\n",
       " '__module__',\n",
       " '__ne__',\n",
       " '__new__',\n",
       " '__reduce__',\n",
       " '__reduce_ex__',\n",
       " '__repr__',\n",
       " '__setattr__',\n",
       " '__sizeof__',\n",
       " '__str__',\n",
       " '__subclasshook__',\n",
       " '__weakref__',\n",
       " 'doors',\n",
       " 'enginetype',\n",
       " 'horsepowwer',\n",
       " 'windows']"
      ]
     },
     "execution_count": 43,
     "metadata": {},
     "output_type": "execute_result"
    }
   ],
   "source": [
    "# when we type dir all the details will be comming even it consists of the public variables in it like  'doors','enginetype','windows'\n",
    "dir(truck)"
   ]
  },
  {
   "cell_type": "code",
   "execution_count": 45,
   "id": "fde8e920-6ab8-4852-b620-1dfc22790796",
   "metadata": {},
   "outputs": [],
   "source": [
    "truck._doors=5"
   ]
  },
  {
   "cell_type": "code",
   "execution_count": 47,
   "id": "b891177d-2798-4966-92b9-277d6a10b541",
   "metadata": {},
   "outputs": [
    {
     "data": {
      "text/plain": [
       "5"
      ]
     },
     "execution_count": 47,
     "metadata": {},
     "output_type": "execute_result"
    }
   ],
   "source": [
    "truck._doors"
   ]
  },
  {
   "cell_type": "code",
   "execution_count": 49,
   "id": "3d390306-edd2-4e7a-96ee-6b78c7549b4f",
   "metadata": {},
   "outputs": [],
   "source": [
    "# all the class variables are protected\n",
    "class Car():\n",
    "         # def is constructor \n",
    "        def __init__(self,window,door,enginetype):\n",
    "            # if we make the variable name with under-score like self.-windows=window\n",
    "            self._windows=window\n",
    "            self._doors=door\n",
    "            self._enginetype=enginetype"
   ]
  },
  {
   "cell_type": "code",
   "execution_count": 51,
   "id": "99d0824a-ae17-408b-a2a9-2bde48a7ef95",
   "metadata": {},
   "outputs": [],
   "source": [
    "audi=Car(4,4,'diesel')"
   ]
  },
  {
   "cell_type": "code",
   "execution_count": 53,
   "id": "8f6d9cae-6498-47b7-9c70-3ef984b90152",
   "metadata": {},
   "outputs": [
    {
     "data": {
      "text/plain": [
       "4"
      ]
     },
     "execution_count": 53,
     "metadata": {},
     "output_type": "execute_result"
    }
   ],
   "source": [
    "audi._windows"
   ]
  },
  {
   "cell_type": "code",
   "execution_count": 55,
   "id": "d5f48526-7c3d-449a-81fc-8276f0ce7931",
   "metadata": {},
   "outputs": [
    {
     "data": {
      "text/plain": [
       "['__class__',\n",
       " '__delattr__',\n",
       " '__dict__',\n",
       " '__dir__',\n",
       " '__doc__',\n",
       " '__eq__',\n",
       " '__format__',\n",
       " '__ge__',\n",
       " '__getattribute__',\n",
       " '__getstate__',\n",
       " '__gt__',\n",
       " '__hash__',\n",
       " '__init__',\n",
       " '__init_subclass__',\n",
       " '__le__',\n",
       " '__lt__',\n",
       " '__module__',\n",
       " '__ne__',\n",
       " '__new__',\n",
       " '__reduce__',\n",
       " '__reduce_ex__',\n",
       " '__repr__',\n",
       " '__setattr__',\n",
       " '__sizeof__',\n",
       " '__str__',\n",
       " '__subclasshook__',\n",
       " '__weakref__',\n",
       " '_doors',\n",
       " '_enginetype',\n",
       " '_windows']"
      ]
     },
     "execution_count": 55,
     "metadata": {},
     "output_type": "execute_result"
    }
   ],
   "source": [
    "dir(audi)"
   ]
  },
  {
   "cell_type": "raw",
   "id": "6e4f3ed6-aa6b-4d16-aa59-f723eae77ed9",
   "metadata": {},
   "source": [
    "# private __ for the private\n",
    "# in private variables there will be no parameters like windows,doors,enginetype as previous"
   ]
  },
  {
   "cell_type": "code",
   "execution_count": 57,
   "id": "c8f7003e-912b-4420-a048-aa455997eaf8",
   "metadata": {},
   "outputs": [],
   "source": [
    "class Car():\n",
    "         # def is constructor \n",
    "        def __init__(self,window,door,enginetype):\n",
    "            # if we make the variable name with under-score like self.-windows=window\n",
    "            self.__windows=window\n",
    "            self.__doors=door\n",
    "            self.__enginetype=enginetype"
   ]
  },
  {
   "cell_type": "code",
   "execution_count": 59,
   "id": "850de5fe-ff31-40e4-b567-fb7a8509e8d3",
   "metadata": {},
   "outputs": [],
   "source": [
    "audi=Car(4,6,'diesel')"
   ]
  },
  {
   "cell_type": "code",
   "execution_count": 61,
   "id": "02ecfdb0-18e0-43ae-85cf-e313764d0383",
   "metadata": {},
   "outputs": [
    {
     "data": {
      "text/plain": [
       "['_Car__doors',\n",
       " '_Car__enginetype',\n",
       " '_Car__windows',\n",
       " '__class__',\n",
       " '__delattr__',\n",
       " '__dict__',\n",
       " '__dir__',\n",
       " '__doc__',\n",
       " '__eq__',\n",
       " '__format__',\n",
       " '__ge__',\n",
       " '__getattribute__',\n",
       " '__getstate__',\n",
       " '__gt__',\n",
       " '__hash__',\n",
       " '__init__',\n",
       " '__init_subclass__',\n",
       " '__le__',\n",
       " '__lt__',\n",
       " '__module__',\n",
       " '__ne__',\n",
       " '__new__',\n",
       " '__reduce__',\n",
       " '__reduce_ex__',\n",
       " '__repr__',\n",
       " '__setattr__',\n",
       " '__sizeof__',\n",
       " '__str__',\n",
       " '__subclasshook__',\n",
       " '__weakref__']"
      ]
     },
     "execution_count": 61,
     "metadata": {},
     "output_type": "execute_result"
    }
   ],
   "source": [
    "dir(audi)"
   ]
  },
  {
   "cell_type": "code",
   "execution_count": 63,
   "id": "31bf8e4d-2d7f-415d-b7a2-08e1c8677260",
   "metadata": {},
   "outputs": [],
   "source": [
    "audi._Car__doors=5 "
   ]
  },
  {
   "cell_type": "code",
   "execution_count": 65,
   "id": "d3e6d0a6-0309-4dc7-a9ce-1f59bb6202b1",
   "metadata": {},
   "outputs": [
    {
     "data": {
      "text/plain": [
       "5"
      ]
     },
     "execution_count": 65,
     "metadata": {},
     "output_type": "execute_result"
    }
   ],
   "source": [
    "audi._Car__doors"
   ]
  },
  {
   "cell_type": "code",
   "execution_count": null,
   "id": "3e63260f-63b6-40ed-92bf-b43cccaf8ae3",
   "metadata": {},
   "outputs": [],
   "source": []
  },
  {
   "cell_type": "code",
   "execution_count": null,
   "id": "1ba06e3d-f2e5-4b02-8021-7023ebb887d1",
   "metadata": {},
   "outputs": [],
   "source": []
  },
  {
   "cell_type": "markdown",
   "id": "8fd2d899-c772-4420-a7b3-15fdc97858c3",
   "metadata": {},
   "source": [
    "## python Exception Handling"
   ]
  },
  {
   "cell_type": "code",
   "execution_count": 70,
   "id": "522a4d3f-f1a6-4d34-9730-7880330b0ef5",
   "metadata": {},
   "outputs": [],
   "source": [
    "a=10"
   ]
  },
  {
   "cell_type": "code",
   "execution_count": 72,
   "id": "df4afe94-d3bf-4a04-912b-88a0694dc9f4",
   "metadata": {},
   "outputs": [
    {
     "name": "stdout",
     "output_type": "stream",
     "text": [
      "the user have not defined the variable\n"
     ]
    }
   ],
   "source": [
    "# this are used for the exception handling in python\n",
    "try:\n",
    "    # code block where exception can occur\n",
    "    a=b\n",
    "except NameError as ex1:\n",
    "    print(\"the user have not defined the variable\")\n",
    "except Exception as ex:\n",
    "    print(ex)"
   ]
  },
  {
   "cell_type": "code",
   "execution_count": 74,
   "id": "4d88d3d2-e488-474b-b069-a501fb156f0b",
   "metadata": {},
   "outputs": [
    {
     "ename": "NameError",
     "evalue": "name 'b' is not defined",
     "output_type": "error",
     "traceback": [
      "\u001b[1;31m---------------------------------------------------------------------------\u001b[0m",
      "\u001b[1;31mNameError\u001b[0m                                 Traceback (most recent call last)",
      "Cell \u001b[1;32mIn[74], line 1\u001b[0m\n\u001b[1;32m----> 1\u001b[0m a\u001b[38;5;241m=\u001b[39mb\n",
      "\u001b[1;31mNameError\u001b[0m: name 'b' is not defined"
     ]
    }
   ],
   "source": [
    "a=b"
   ]
  },
  {
   "cell_type": "code",
   "execution_count": 76,
   "id": "b11bf4a2-bdae-4c50-8759-4a78a3cef0c6",
   "metadata": {},
   "outputs": [
    {
     "ename": "TypeError",
     "evalue": "unsupported operand type(s) for +: 'int' and 'str'",
     "output_type": "error",
     "traceback": [
      "\u001b[1;31m---------------------------------------------------------------------------\u001b[0m",
      "\u001b[1;31mTypeError\u001b[0m                                 Traceback (most recent call last)",
      "Cell \u001b[1;32mIn[76], line 3\u001b[0m\n\u001b[0;32m      1\u001b[0m a\u001b[38;5;241m=\u001b[39m\u001b[38;5;241m1\u001b[39m\n\u001b[0;32m      2\u001b[0m b\u001b[38;5;241m=\u001b[39m\u001b[38;5;124m'\u001b[39m\u001b[38;5;124ma\u001b[39m\u001b[38;5;124m'\u001b[39m\n\u001b[1;32m----> 3\u001b[0m c\u001b[38;5;241m=\u001b[39ma\u001b[38;5;241m+\u001b[39mb\n",
      "\u001b[1;31mTypeError\u001b[0m: unsupported operand type(s) for +: 'int' and 'str'"
     ]
    }
   ],
   "source": [
    "a=1\n",
    "b='a'\n",
    "c=a+b"
   ]
  },
  {
   "cell_type": "code",
   "execution_count": 78,
   "id": "46b12e2c-7a1c-47e4-b006-8542dabd5350",
   "metadata": {},
   "outputs": [
    {
     "name": "stdin",
     "output_type": "stream",
     "text": [
      "enter the num 1: 14\n",
      "enter the num 2: 63\n"
     ]
    },
    {
     "name": "stdout",
     "output_type": "stream",
     "text": [
      "0.2222222222222222\n",
      "882\n",
      "77\n"
     ]
    }
   ],
   "source": [
    "## if i want to handle the above exception then\n",
    "# this is try else block\n",
    "try:\n",
    "    # code block where exception can occur\n",
    "    a=int(input(\"enter the num 1:\"))\n",
    "    b=int(input(\"enter the num 2:\"))\n",
    "    c=a/b\n",
    "    d=a*b\n",
    "    e=a+b\n",
    "    # we can also print the value here or in the else block\n",
    "    # print(c)\n",
    "    # print(d)\n",
    "    # print(e)\n",
    "except NameError:\n",
    "  print(\"the user have not defined the variable\")\n",
    "except ZeroDivisionError:\n",
    "  print(\"plese provide a num > 0\")\n",
    "except TypeError:\n",
    "  print(\"try to make the data type similar\")\n",
    "except Exception as ex:\n",
    "    print(ex)\n",
    "else:\n",
    "    # it is used to print the output\n",
    "    print(c)\n",
    "    print(d)\n",
    "    print(e)"
   ]
  },
  {
   "cell_type": "code",
   "execution_count": 80,
   "id": "7b3edfe2-d061-4dd4-8c6b-baa16bd4787a",
   "metadata": {},
   "outputs": [
    {
     "ename": "ZeroDivisionError",
     "evalue": "division by zero",
     "output_type": "error",
     "traceback": [
      "\u001b[1;31m---------------------------------------------------------------------------\u001b[0m",
      "\u001b[1;31mZeroDivisionError\u001b[0m                         Traceback (most recent call last)",
      "Cell \u001b[1;32mIn[80], line 1\u001b[0m\n\u001b[1;32m----> 1\u001b[0m \u001b[38;5;241m12\u001b[39m\u001b[38;5;241m/\u001b[39m\u001b[38;5;241m0\u001b[39m\n",
      "\u001b[1;31mZeroDivisionError\u001b[0m: division by zero"
     ]
    }
   ],
   "source": [
    "12/0"
   ]
  },
  {
   "cell_type": "code",
   "execution_count": 82,
   "id": "6afbbbc0-3467-4f64-a685-73f0e3d721b5",
   "metadata": {},
   "outputs": [],
   "source": [
    "## try else and finally\n"
   ]
  },
  {
   "cell_type": "code",
   "execution_count": 86,
   "id": "ca3e9372-7681-4385-80fb-b2c77d7492db",
   "metadata": {},
   "outputs": [
    {
     "name": "stdin",
     "output_type": "stream",
     "text": [
      "enter the num 1: 143\n",
      "enter the num 2: 25\n"
     ]
    },
    {
     "name": "stdout",
     "output_type": "stream",
     "text": [
      "5.72\n",
      "the execution is done\n"
     ]
    }
   ],
   "source": [
    "## if i want to handle the above exception then\n",
    "# this is try else block\n",
    "try:\n",
    "    # code block where exception can occur\n",
    "    a=int(input(\"enter the num 1:\"))\n",
    "    b=int(input(\"enter the num 2:\"))\n",
    "    c=a/b\n",
    "except NameError:\n",
    "  print(\"the user have not defined the variable\")\n",
    "except ZeroDivisionError:\n",
    "  print(\"plese provide a num > 0\")\n",
    "except TypeError:\n",
    "  print(\"try to make the data type similar\")\n",
    "except Exception as ex:\n",
    "    print(ex)\n",
    "else:\n",
    "    # it is used to print the output\n",
    "    print(c)\n",
    "# finally block will always executed if the exception occured or not\n",
    "finally:\n",
    "    print(\"the execution is done\")"
   ]
  },
  {
   "cell_type": "markdown",
   "id": "5e8bf1b8-4d11-4a36-944a-adabc0cda643",
   "metadata": {},
   "source": [
    "## Custom Exception"
   ]
  },
  {
   "cell_type": "code",
   "execution_count": 88,
   "id": "97441361-b16e-486b-b9b2-8c0bf8f7bb5a",
   "metadata": {},
   "outputs": [],
   "source": [
    "# this are the custom exceptions\n",
    "class Error (Exception):\n",
    "    pass\n",
    "\n",
    "class dobException(Error):\n",
    "    pass\n",
    "\n",
    "class customgeneric(Error):\n",
    "    pass"
   ]
  },
  {
   "cell_type": "code",
   "execution_count": 90,
   "id": "659bc8df-a0a1-4062-8b77-9d70c60e6e44",
   "metadata": {},
   "outputs": [
    {
     "name": "stdin",
     "output_type": "stream",
     "text": [
      "Enter the year of birth:  2005\n"
     ]
    },
    {
     "name": "stdout",
     "output_type": "stream",
     "text": [
      "The age is valid. You can apply for the exams.\n"
     ]
    }
   ],
   "source": [
    "year = int(input(\"Enter the year of birth: \"))\n",
    "age = 2025 - year\n",
    "\n",
    "try:\n",
    "    if 20 <= age <= 30:\n",
    "        print(\"The age is valid. You can apply for the exams.\")\n",
    "    else:\n",
    "        raise dobException\n",
    "except dobException:\n",
    "    print(\"The age is not within the valid range. You can't apply for the exams.\")\n"
   ]
  },
  {
   "cell_type": "code",
   "execution_count": null,
   "id": "44a5f263-55d7-4475-a58a-c51ff391ab00",
   "metadata": {},
   "outputs": [],
   "source": []
  }
 ],
 "metadata": {
  "kernelspec": {
   "display_name": "Python [conda env:base] *",
   "language": "python",
   "name": "conda-base-py"
  },
  "language_info": {
   "codemirror_mode": {
    "name": "ipython",
    "version": 3
   },
   "file_extension": ".py",
   "mimetype": "text/x-python",
   "name": "python",
   "nbconvert_exporter": "python",
   "pygments_lexer": "ipython3",
   "version": "3.12.7"
  }
 },
 "nbformat": 4,
 "nbformat_minor": 5
}
