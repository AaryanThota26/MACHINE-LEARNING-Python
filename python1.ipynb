{
 "cells": [
  {
   "cell_type": "code",
   "execution_count": 9,
   "id": "34123f58-7747-4056-832e-ca56b7251780",
   "metadata": {},
   "outputs": [],
   "source": [
    "# KEEP # AND CHANGE THE CODE OPTION TO THE MARK DOWN THEN ONE MARK DOWN BOX WILL BE CREATED IN THAT TYPE # FOR HEADING AND ## FOR THE SUB HEADINGS AND FOR ANY POINTS - IS USED "
   ]
  },
  {
   "cell_type": "markdown",
   "id": "8e26d4e3-299a-4c95-b33c-4199a4d4bbe8",
   "metadata": {},
   "source": [
    "# PYHTON\n",
    "- DATA TYPES"
   ]
  },
  {
   "cell_type": "code",
   "execution_count": 14,
   "id": "93e1217e-2e54-4c47-a207-93e0513b89ea",
   "metadata": {},
   "outputs": [],
   "source": [
    "#THERE ARE MANY DATA TYPES +,*,/,-,%,//,**"
   ]
  },
  {
   "cell_type": "markdown",
   "id": "63c9ae63-b0bb-4333-9cac-97823497a5d9",
   "metadata": {},
   "source": [
    "## Python Data Structures and Boolean\n",
    "- Boolean\n",
    "- Boolean and Logical Operators\n",
    "- Lists\n",
    "- Comparison operators\n",
    "- Dictionaries\n",
    "- Tuples\n",
    "- Sets\n",
    "## Boolean Variables\n",
    "Boolean values are the two constant objects False and True.\n",
    "\n",
    "They are used to represent truth values (other values can also be considered false or true).\n",
    "\n",
    "In numeric contexts (for example, when used as the argument to an arithmetic operator), they behave like the integers 0 and 1, respectively.\n",
    "\n",
    "The built-in function bool() can be used to cast any value to a Boolean, if the value can be interpreted as a truth value\n",
    "\n",
    "They are written as False and True, respectively."
   ]
  },
  {
   "cell_type": "code",
   "execution_count": 11,
   "id": "6f3e7c63-38fc-41ce-b053-0f05f262dfa7",
   "metadata": {},
   "outputs": [],
   "source": [
    "my_str='Aaryan'"
   ]
  },
  {
   "cell_type": "code",
   "execution_count": 15,
   "id": "07813a7c-8786-44a6-a08e-18ccb5df6019",
   "metadata": {},
   "outputs": [
    {
     "data": {
      "text/plain": [
       "True"
      ]
     },
     "execution_count": 15,
     "metadata": {},
     "output_type": "execute_result"
    }
   ],
   "source": [
    "my_str.istitle() # title means the first letter of the word is capital the it is true"
   ]
  },
  {
   "cell_type": "code",
   "execution_count": 17,
   "id": "a27cd5c8-e537-47d3-b2e8-69b9906a3399",
   "metadata": {},
   "outputs": [
    {
     "name": "stdout",
     "output_type": "stream",
     "text": [
      "True\n",
      "True\n",
      "False\n",
      "True\n",
      "False\n",
      "False\n",
      "False\n",
      "False\n",
      "True\n"
     ]
    }
   ],
   "source": [
    "print(my_str.isalnum()) #check if all char are nums\n",
    "print(my_str.isalpha()) #check if all char in the string are alphabetic\n",
    "print(my_str.isdigit()) #test if string contains digits\n",
    "print(my_str.istitle()) #test if string contains title words\n",
    "print(my_str.isupper()) #test if string contains upper case\n",
    "print(my_str.islower()) #test if string contains lower case\n",
    "print(my_str.isspace()) #test if string contains spaces\n",
    "print(my_str.endswith('N')) #test if string endswith a d\n",
    "print(my_str.startswith('A')) #test if string startswith H"
   ]
  },
  {
   "cell_type": "markdown",
   "id": "f33d83e6-f54c-48b4-a637-50c70d57f74f",
   "metadata": {},
   "source": [
    "## Boolean and Logical Operators"
   ]
  },
  {
   "cell_type": "code",
   "execution_count": 24,
   "id": "6cdde120-cf00-4133-b2ff-77a217c8a464",
   "metadata": {},
   "outputs": [
    {
     "data": {
      "text/plain": [
       "True"
      ]
     },
     "execution_count": 24,
     "metadata": {},
     "output_type": "execute_result"
    }
   ],
   "source": [
    "True and True\n",
    "True and False\n",
    "True or False\n",
    "True or True"
   ]
  },
  {
   "cell_type": "code",
   "execution_count": 26,
   "id": "678fb619-32a2-4702-83e2-1fb45cfc6479",
   "metadata": {},
   "outputs": [],
   "source": [
    "ex='hello world'\n",
    "my='abhi'"
   ]
  },
  {
   "cell_type": "code",
   "execution_count": 28,
   "id": "54f083ac-85a6-4384-bf4b-db507834255d",
   "metadata": {},
   "outputs": [
    {
     "data": {
      "text/plain": [
       "True"
      ]
     },
     "execution_count": 28,
     "metadata": {},
     "output_type": "execute_result"
    }
   ],
   "source": [
    "my.isalpha() or ex.ismum"
   ]
  },
  {
   "cell_type": "markdown",
   "id": "a0e53462-fd5a-4a63-8ddf-edac638ddf6a",
   "metadata": {},
   "source": [
    "# Lists\n",
    "A list is a data structure in Python that is a mutable, or changeable, ordered sequence of elements. Each element or value that is inside of a list is called an item. Just as strings are defined as characters between quotes, lists are defined by having values between square brackets [ ]\n",
    "List can store any data types"
   ]
  },
  {
   "cell_type": "code",
   "execution_count": 31,
   "id": "bddc9615-774a-489b-9924-a687d5e95288",
   "metadata": {},
   "outputs": [
    {
     "data": {
      "text/plain": [
       "list"
      ]
     },
     "execution_count": 31,
     "metadata": {},
     "output_type": "execute_result"
    }
   ],
   "source": [
    "type([])"
   ]
  },
  {
   "cell_type": "code",
   "execution_count": 33,
   "id": "52bd5822-93a3-46ec-bf2a-fc3a8aba35c1",
   "metadata": {},
   "outputs": [],
   "source": [
    "list=[]"
   ]
  },
  {
   "cell_type": "code",
   "execution_count": 35,
   "id": "f376e68a-c340-423a-a46a-e5f1f2fe6439",
   "metadata": {},
   "outputs": [
    {
     "data": {
      "text/plain": [
       "list"
      ]
     },
     "execution_count": 35,
     "metadata": {},
     "output_type": "execute_result"
    }
   ],
   "source": [
    "type(list)"
   ]
  },
  {
   "cell_type": "code",
   "execution_count": 37,
   "id": "50a44957-0bfb-41d5-98b6-b91d2f8f9306",
   "metadata": {},
   "outputs": [],
   "source": [
    "lst=['abhi','aaryan',2048,26]"
   ]
  },
  {
   "cell_type": "code",
   "execution_count": 39,
   "id": "347dddeb-2a93-4b40-a081-bf2b4ec880b5",
   "metadata": {},
   "outputs": [
    {
     "name": "stdout",
     "output_type": "stream",
     "text": [
      "['abhi', 'aaryan', 2048, 26]\n"
     ]
    }
   ],
   "source": [
    "print(lst)"
   ]
  },
  {
   "cell_type": "markdown",
   "id": "5b8c8522-950f-4788-acf5-81ba0c0f702b",
   "metadata": {},
   "source": [
    "## Append to the list\n",
    "indexing start from 0 t n"
   ]
  },
  {
   "cell_type": "code",
   "execution_count": 73,
   "id": "ca28cc55-8904-4c16-92c7-9df6c5901da4",
   "metadata": {},
   "outputs": [],
   "source": [
    "# append is used to add the content into the list \n",
    "lst.append(\"aaryan_26\")"
   ]
  },
  {
   "cell_type": "code",
   "execution_count": 75,
   "id": "7e5f673f-bd5d-41bd-91be-f60a9d0aef58",
   "metadata": {},
   "outputs": [
    {
     "data": {
      "text/plain": [
       "5"
      ]
     },
     "execution_count": 75,
     "metadata": {},
     "output_type": "execute_result"
    }
   ],
   "source": [
    "len(lst)"
   ]
  },
  {
   "cell_type": "code",
   "execution_count": 77,
   "id": "f18fdd58-d5bd-42ed-883d-17f4b301de01",
   "metadata": {},
   "outputs": [
    {
     "data": {
      "text/plain": [
       "['abhi', 2048, 26, 'aaryan', 'aaryan_26']"
      ]
     },
     "execution_count": 77,
     "metadata": {},
     "output_type": "execute_result"
    }
   ],
   "source": [
    "lst"
   ]
  },
  {
   "cell_type": "code",
   "execution_count": 79,
   "id": "a77bee2a-0dc8-40ec-9628-a036b66cf07a",
   "metadata": {},
   "outputs": [
    {
     "data": {
      "text/plain": [
       "26"
      ]
     },
     "execution_count": 79,
     "metadata": {},
     "output_type": "execute_result"
    }
   ],
   "source": [
    " lst[2]"
   ]
  },
  {
   "cell_type": "code",
   "execution_count": 82,
   "id": "055bcc66-cccd-49b4-ab5b-a9f6244a79d3",
   "metadata": {},
   "outputs": [],
   "source": [
    "# if we want to insert an element into particular index then list.insert(index,\"value)\n",
    "lst.insert(2,\"aarya\")"
   ]
  },
  {
   "cell_type": "markdown",
   "id": "c82d76e6-1108-47cc-946b-f2b37f6cd2fb",
   "metadata": {},
   "source": [
    "extend method\n",
    "if we want to append multiple elements then we use extend which will no display like this[[1,2,3,]]"
   ]
  },
  {
   "cell_type": "code",
   "execution_count": 109,
   "id": "53c7c7a2-ad8c-4230-bf04-f41137825fae",
   "metadata": {},
   "outputs": [],
   "source": [
    "lst=[1,2,3,4,5]"
   ]
  },
  {
   "cell_type": "code",
   "execution_count": 111,
   "id": "be24d48f-9bdc-4cae-ac60-fa152df09b30",
   "metadata": {},
   "outputs": [],
   "source": [
    "lst.extend([6,7,8])"
   ]
  },
  {
   "cell_type": "code",
   "execution_count": 113,
   "id": "76c12351-6105-42b6-bad2-2d2c18892c27",
   "metadata": {},
   "outputs": [
    {
     "data": {
      "text/plain": [
       "[1, 2, 3, 4, 5, 6, 7, 8]"
      ]
     },
     "execution_count": 113,
     "metadata": {},
     "output_type": "execute_result"
    }
   ],
   "source": [
    "lst"
   ]
  },
  {
   "cell_type": "code",
   "execution_count": 115,
   "id": "6754aa74-128e-49a8-be10-b55ae9253e7b",
   "metadata": {},
   "outputs": [
    {
     "data": {
      "text/plain": [
       "8"
      ]
     },
     "execution_count": 115,
     "metadata": {},
     "output_type": "execute_result"
    }
   ],
   "source": [
    "lst.pop() # it is used to delete the element and written the deleted element if does not give any value it will take the last value"
   ]
  },
  {
   "cell_type": "code",
   "execution_count": 117,
   "id": "49de0c70-ecc6-4f2c-b13a-777ed875ea46",
   "metadata": {},
   "outputs": [
    {
     "data": {
      "text/plain": [
       "[1, 2, 3, 4, 5, 6, 7]"
      ]
     },
     "execution_count": 117,
     "metadata": {},
     "output_type": "execute_result"
    }
   ],
   "source": [
    "lst"
   ]
  },
  {
   "cell_type": "markdown",
   "id": "4bd28f28-a14d-444d-99d0-c70e1c2c2d4f",
   "metadata": {},
   "source": [
    "## count\n",
    "it is used to count the no of occurences of a number "
   ]
  },
  {
   "cell_type": "code",
   "execution_count": 120,
   "id": "2e7e15c6-df2f-4b8c-aa7d-bddea10e92b0",
   "metadata": {},
   "outputs": [],
   "source": [
    "l1=[1,2,3,1,5,3,6,1,4,6,2]"
   ]
  },
  {
   "cell_type": "code",
   "execution_count": 122,
   "id": "1fd26874-040c-4f75-b880-485e46c7df7d",
   "metadata": {},
   "outputs": [
    {
     "data": {
      "text/plain": [
       "3"
      ]
     },
     "execution_count": 122,
     "metadata": {},
     "output_type": "execute_result"
    }
   ],
   "source": [
    "l1.count(1)"
   ]
  },
  {
   "cell_type": "markdown",
   "id": "1d2ccb4d-ec74-428e-b21a-c24616469c6a",
   "metadata": {},
   "source": [
    "## index is used to return the index of the particular element"
   ]
  },
  {
   "cell_type": "code",
   "execution_count": 138,
   "id": "33a178c8-487a-4606-9c4b-96b9271288f8",
   "metadata": {},
   "outputs": [
    {
     "data": {
      "text/plain": [
       "4"
      ]
     },
     "execution_count": 138,
     "metadata": {},
     "output_type": "execute_result"
    }
   ],
   "source": [
    "# it will return the index of first occurance of the no if we not give any number it will take the first element\n",
    "# in index we can also keep the starting and ending index also lst.index(value,start,end)\n",
    "l1.index(5)"
   ]
  },
  {
   "cell_type": "markdown",
   "id": "4b96db6e-3897-4727-bc65-d4228bd2dbdc",
   "metadata": {},
   "source": [
    "min and max values in the list"
   ]
  },
  {
   "cell_type": "code",
   "execution_count": 141,
   "id": "483c99d3-66eb-470e-926a-4f4c18f21966",
   "metadata": {},
   "outputs": [
    {
     "data": {
      "text/plain": [
       "1"
      ]
     },
     "execution_count": 141,
     "metadata": {},
     "output_type": "execute_result"
    }
   ],
   "source": [
    "min(lst) #return the min value in the list "
   ]
  },
  {
   "cell_type": "code",
   "execution_count": 143,
   "id": "3e3cf968-2864-432a-93d1-3410a54e9b3b",
   "metadata": {},
   "outputs": [
    {
     "data": {
      "text/plain": [
       "7"
      ]
     },
     "execution_count": 143,
     "metadata": {},
     "output_type": "execute_result"
    }
   ],
   "source": [
    "max(lst) # return the max element in the list "
   ]
  },
  {
   "cell_type": "markdown",
   "id": "c80930a8-0571-4940-97b6-ab63c94ea493",
   "metadata": {},
   "source": [
    "# SETS\n",
    "A Set is an unordered collection data type that is iterable, mutable, and has no duplicate elements. Python's set class represents the mathematical notion of a set.This is based on a data structure known as a hash table"
   ]
  },
  {
   "cell_type": "code",
   "execution_count": 146,
   "id": "95902550-bf4a-4e6e-afdd-82caf610a6aa",
   "metadata": {},
   "outputs": [],
   "source": [
    "# defining an empty set\n",
    "se=set()"
   ]
  },
  {
   "cell_type": "code",
   "execution_count": 150,
   "id": "ae8a0405-ef61-407f-be15-b2ba8708ee34",
   "metadata": {},
   "outputs": [
    {
     "name": "stdout",
     "output_type": "stream",
     "text": [
      "<class 'set'>\n"
     ]
    }
   ],
   "source": [
    "print(type(se))"
   ]
  },
  {
   "cell_type": "code",
   "execution_count": 43,
   "id": "02c40345-148f-4074-af55-30d8f398913f",
   "metadata": {},
   "outputs": [],
   "source": [
    "se={\"avengers\",\"end game\",\"thor ragnorok\"}"
   ]
  },
  {
   "cell_type": "code",
   "execution_count": 45,
   "id": "578bd323-c231-4cd1-8523-ab200a4813cb",
   "metadata": {},
   "outputs": [
    {
     "data": {
      "text/plain": [
       "{'avengers', 'end game', 'thor ragnorok'}"
      ]
     },
     "execution_count": 45,
     "metadata": {},
     "output_type": "execute_result"
    }
   ],
   "source": [
    "se"
   ]
  },
  {
   "cell_type": "code",
   "execution_count": 47,
   "id": "0d70cdff-0e7b-4f5e-bbec-a5dbeda4f168",
   "metadata": {},
   "outputs": [],
   "source": [
    "set_n={1,2,3,1,2,5} # the repeated values are taken once in sets"
   ]
  },
  {
   "cell_type": "code",
   "execution_count": 49,
   "id": "247fb067-be32-40bf-a858-9dd1a11cf10c",
   "metadata": {},
   "outputs": [
    {
     "data": {
      "text/plain": [
       "{1, 2, 3, 5}"
      ]
     },
     "execution_count": 49,
     "metadata": {},
     "output_type": "execute_result"
    }
   ],
   "source": [
    "set_n"
   ]
  },
  {
   "cell_type": "code",
   "execution_count": 192,
   "id": "739a8ab7-b613-48c6-9f52-d417021dcaf4",
   "metadata": {},
   "outputs": [],
   "source": [
    "# if we need to add any element in the sets wee use add fn \n",
    "# in set the data is stored in an order based on alphabetic order \n",
    "se.add(\"hulk\")"
   ]
  },
  {
   "cell_type": "code",
   "execution_count": 194,
   "id": "4d3c964d-2c72-42e9-839e-5040171f7315",
   "metadata": {},
   "outputs": [],
   "source": [
    "# in set the nums will be stored in at the first \n",
    "se.add(60)"
   ]
  },
  {
   "cell_type": "code",
   "execution_count": 196,
   "id": "ec240b1e-2622-46ce-ba2f-5101fa5f770a",
   "metadata": {},
   "outputs": [
    {
     "data": {
      "text/plain": [
       "{60, 'avengers', 'end game', 'hulk', 'thor ragnorok'}"
      ]
     },
     "execution_count": 196,
     "metadata": {},
     "output_type": "execute_result"
    }
   ],
   "source": [
    "se"
   ]
  },
  {
   "cell_type": "markdown",
   "id": "8fcf4946-25d0-48c1-bd52-ab8b07bf5092",
   "metadata": {},
   "source": [
    "- indexing is no support in sets "
   ]
  },
  {
   "cell_type": "code",
   "execution_count": 32,
   "id": "7b469a2c-c172-4b25-b98f-b6a331921d4d",
   "metadata": {},
   "outputs": [],
   "source": [
    "# to remove the same items in the both the sets we use difference function\n",
    "a={1,2,3,4,5}\n",
    "b={6,5,3,6,7}\n",
    "#here all the same elements in the both steps are removed and displays the remaining elements in the set\n",
    "\n"
   ]
  },
  {
   "cell_type": "code",
   "execution_count": 28,
   "id": "862c470f-b856-4af6-86bb-5699c15ac3b3",
   "metadata": {},
   "outputs": [],
   "source": [
    "# if we need to perform difference and update the difference in set a we use difference_update fn \n",
    "a.difference_update(b)"
   ]
  },
  {
   "cell_type": "code",
   "execution_count": 30,
   "id": "00680093-0277-44e9-916b-a7e3c0a1d2c0",
   "metadata": {},
   "outputs": [
    {
     "data": {
      "text/plain": [
       "{1, 2, 4}"
      ]
     },
     "execution_count": 30,
     "metadata": {},
     "output_type": "execute_result"
    }
   ],
   "source": [
    "a"
   ]
  },
  {
   "cell_type": "code",
   "execution_count": 34,
   "id": "40cfbafe-b143-4ece-83f2-039dc58c1ca1",
   "metadata": {},
   "outputs": [
    {
     "data": {
      "text/plain": [
       "{3, 5}"
      ]
     },
     "execution_count": 34,
     "metadata": {},
     "output_type": "execute_result"
    }
   ],
   "source": [
    "# if we need to get the common elements then we use intersection fn \n",
    "a.intersection(b)"
   ]
  },
  {
   "cell_type": "markdown",
   "id": "cb93fa34-1cfe-4433-9446-30f2761a0881",
   "metadata": {},
   "source": [
    "# Dictionaries\n",
    "A dictionary is a collection which is unordered, changeable and indexed. In Python dictionaries are written with curly brackets, and they have keys and values."
   ]
  },
  {
   "cell_type": "code",
   "execution_count": 51,
   "id": "ca720cda-a1d9-44c8-b780-cc96e6db030a",
   "metadata": {},
   "outputs": [],
   "source": [
    "dic={}"
   ]
  },
  {
   "cell_type": "code",
   "execution_count": 53,
   "id": "db99baf8-1243-47d7-bb12-7d7790f63730",
   "metadata": {},
   "outputs": [
    {
     "data": {
      "text/plain": [
       "dict"
      ]
     },
     "execution_count": 53,
     "metadata": {},
     "output_type": "execute_result"
    }
   ],
   "source": [
    "type(dic)"
   ]
  },
  {
   "cell_type": "code",
   "execution_count": 59,
   "id": "5f7ecbc4-c6e6-4829-926c-3edfa832bc62",
   "metadata": {},
   "outputs": [],
   "source": [
    "# we should not keep items like this in dictionary instead we use a key and set a value\n",
    "dic={1,2,3,4}"
   ]
  },
  {
   "cell_type": "code",
   "execution_count": 57,
   "id": "d795c992-a3e1-4777-b726-124115cd997f",
   "metadata": {},
   "outputs": [
    {
     "data": {
      "text/plain": [
       "set"
      ]
     },
     "execution_count": 57,
     "metadata": {},
     "output_type": "execute_result"
    }
   ],
   "source": [
    "type(dic)"
   ]
  },
  {
   "cell_type": "code",
   "execution_count": 63,
   "id": "4d156b26-b053-47de-9839-5e00cfcc96d9",
   "metadata": {},
   "outputs": [],
   "source": [
    "dic={\"car1\":\"audi\",\"car2\":\"bmw\",\"car3\":\"benz\"}"
   ]
  },
  {
   "cell_type": "code",
   "execution_count": 65,
   "id": "d60e470f-c47e-45b9-ba2e-3d4136319b56",
   "metadata": {},
   "outputs": [
    {
     "data": {
      "text/plain": [
       "{'car1': 'audi', 'car2': 'bmw', 'car3': 'benz'}"
      ]
     },
     "execution_count": 65,
     "metadata": {},
     "output_type": "execute_result"
    }
   ],
   "source": [
    "dic"
   ]
  },
  {
   "cell_type": "code",
   "execution_count": 67,
   "id": "2749af22-f585-4138-bac0-f33654272256",
   "metadata": {},
   "outputs": [
    {
     "data": {
      "text/plain": [
       "dict"
      ]
     },
     "execution_count": 67,
     "metadata": {},
     "output_type": "execute_result"
    }
   ],
   "source": [
    "type(dic)"
   ]
  },
  {
   "cell_type": "code",
   "execution_count": 71,
   "id": "f22c6345-6f0c-462a-9a06-834b9d34aa33",
   "metadata": {},
   "outputs": [
    {
     "data": {
      "text/plain": [
       "'audi'"
      ]
     },
     "execution_count": 71,
     "metadata": {},
     "output_type": "execute_result"
    }
   ],
   "source": [
    "## to access the values through the keys\n",
    "dic[\"car1\"]"
   ]
  },
  {
   "cell_type": "code",
   "execution_count": 75,
   "id": "90d241cd-648b-4bcd-88ee-8d35e2af2561",
   "metadata": {},
   "outputs": [
    {
     "name": "stdout",
     "output_type": "stream",
     "text": [
      "audi\n",
      "bmw\n",
      "benz\n"
     ]
    }
   ],
   "source": [
    "# we can even loop the dictionaries\n",
    "for i in dic:\n",
    "    print(dic[i])"
   ]
  },
  {
   "cell_type": "code",
   "execution_count": 89,
   "id": "bfa52ef4-f21d-430a-a428-6870be322087",
   "metadata": {},
   "outputs": [
    {
     "name": "stdout",
     "output_type": "stream",
     "text": [
      "('car1', 'audi')\n",
      "('car2', 'bmw')\n",
      "('car3', 'benz')\n"
     ]
    }
   ],
   "source": [
    "for i in  dic.items():\n",
    "    print(i)"
   ]
  },
  {
   "cell_type": "code",
   "execution_count": 95,
   "id": "2f84df24-fdb5-4e61-8166-f4530235e382",
   "metadata": {},
   "outputs": [],
   "source": [
    "# adding an items if we add an item by the existing key value the the valu is replaced\n",
    "dic[\"car4\"]=\"jaguar\""
   ]
  },
  {
   "cell_type": "code",
   "execution_count": 97,
   "id": "462cf77a-d5ef-4ae3-8e79-6af6daea65f2",
   "metadata": {},
   "outputs": [
    {
     "data": {
      "text/plain": [
       "{'car1': 'audi', 'car2': 'bmw', 'car3': 'benz', 'car4': 'jaguar'}"
      ]
     },
     "execution_count": 97,
     "metadata": {},
     "output_type": "execute_result"
    }
   ],
   "source": [
    "dic"
   ]
  },
  {
   "cell_type": "markdown",
   "id": "1ba86bed-ea99-40f7-9abf-0269c728fbf9",
   "metadata": {},
   "source": [
    "## Nested Dictionary"
   ]
  },
  {
   "cell_type": "code",
   "execution_count": 103,
   "id": "6a8bb148-5cfa-420d-ac84-191bb4e59dc6",
   "metadata": {},
   "outputs": [],
   "source": [
    "c1_model={'benz':1980}\n",
    "c2_model={'audi':1960}\n",
    "c3_model={'BMW ':1969}\n",
    "c_type={'car1':c1_model,'car2':c2_model,'car3':c3_model}"
   ]
  },
  {
   "cell_type": "code",
   "execution_count": 105,
   "id": "dccbe469-2b4a-4255-a438-bf3b8ee2e784",
   "metadata": {},
   "outputs": [
    {
     "data": {
      "text/plain": [
       "{'car1': {'benz': 1980}, 'car2': {'audi': 1960}, 'car3': {'BMW ': 1969}}"
      ]
     },
     "execution_count": 105,
     "metadata": {},
     "output_type": "execute_result"
    }
   ],
   "source": [
    "c_type"
   ]
  },
  {
   "cell_type": "code",
   "execution_count": 107,
   "id": "fca4e10b-5d0b-48c2-bc4b-6cbddedbf020",
   "metadata": {},
   "outputs": [
    {
     "data": {
      "text/plain": [
       "1980"
      ]
     },
     "execution_count": 107,
     "metadata": {},
     "output_type": "execute_result"
    }
   ],
   "source": [
    "c_type['car1']['benz']"
   ]
  },
  {
   "cell_type": "markdown",
   "id": "c54e3542-67d9-4e1f-a7fc-228699ac213d",
   "metadata": {},
   "source": [
    "# Tuples"
   ]
  },
  {
   "cell_type": "code",
   "execution_count": 110,
   "id": "ea3e6a08-fc79-4448-85e3-f0e0055ee912",
   "metadata": {},
   "outputs": [],
   "source": [
    "my_tup=()\n"
   ]
  },
  {
   "cell_type": "code",
   "execution_count": 112,
   "id": "c9b9c010-dfbc-4e22-900c-1ba26c9f2add",
   "metadata": {},
   "outputs": [
    {
     "data": {
      "text/plain": [
       "tuple"
      ]
     },
     "execution_count": 112,
     "metadata": {},
     "output_type": "execute_result"
    }
   ],
   "source": [
    "type(my_tup)"
   ]
  },
  {
   "cell_type": "code",
   "execution_count": 120,
   "id": "e9d05cb0-b796-4a81-9f25-7162ba7788a2",
   "metadata": {},
   "outputs": [],
   "source": [
    "tup=(1,2,3,4,2,5,6,3,1,2,5)"
   ]
  },
  {
   "cell_type": "code",
   "execution_count": 122,
   "id": "a2851cf2-600c-4aa6-9c33-0c0797d4a193",
   "metadata": {},
   "outputs": [
    {
     "data": {
      "text/plain": [
       "(1, 2, 3, 4, 2, 5, 6, 3, 1, 2, 5)"
      ]
     },
     "execution_count": 122,
     "metadata": {},
     "output_type": "execute_result"
    }
   ],
   "source": [
    "tup"
   ]
  },
  {
   "cell_type": "code",
   "execution_count": 124,
   "id": "e89f2ef3-20a9-4a44-9446-3200a8941b07",
   "metadata": {},
   "outputs": [
    {
     "data": {
      "text/plain": [
       "tuple"
      ]
     },
     "execution_count": 124,
     "metadata": {},
     "output_type": "execute_result"
    }
   ],
   "source": [
    "type(tup)"
   ]
  },
  {
   "cell_type": "code",
   "execution_count": 128,
   "id": "432f0beb-84ca-44b9-8d28-d781200c5670",
   "metadata": {},
   "outputs": [
    {
     "data": {
      "text/plain": [
       "3"
      ]
     },
     "execution_count": 128,
     "metadata": {},
     "output_type": "execute_result"
    }
   ],
   "source": [
    "tup.count(2)"
   ]
  },
  {
   "cell_type": "code",
   "execution_count": 130,
   "id": "12eee1bd-5672-49ae-80a5-10e06b70c485",
   "metadata": {},
   "outputs": [
    {
     "data": {
      "text/plain": [
       "2"
      ]
     },
     "execution_count": 130,
     "metadata": {},
     "output_type": "execute_result"
    }
   ],
   "source": [
    "tup.index(3)"
   ]
  }
 ],
 "metadata": {
  "kernelspec": {
   "display_name": "Python [conda env:base] *",
   "language": "python",
   "name": "conda-base-py"
  },
  "language_info": {
   "codemirror_mode": {
    "name": "ipython",
    "version": 3
   },
   "file_extension": ".py",
   "mimetype": "text/x-python",
   "name": "python",
   "nbconvert_exporter": "python",
   "pygments_lexer": "ipython3",
   "version": "3.12.7"
  }
 },
 "nbformat": 4,
 "nbformat_minor": 5
}
