{
 "cells": [
  {
   "cell_type": "markdown",
   "id": "941e8ebe-9e75-403a-ae07-58f7055b82a3",
   "metadata": {},
   "source": [
    "## FUNCTIONS IN PYTHON \n",
    "- why functions\n",
    "- function definition\n",
    "- positional and keyword arguments in functions"
   ]
  },
  {
   "cell_type": "code",
   "execution_count": 2,
   "id": "6390dcd4-c0cd-4db5-86bf-342d7ddf7122",
   "metadata": {},
   "outputs": [
    {
     "name": "stdout",
     "output_type": "stream",
     "text": [
      "even\n"
     ]
    }
   ],
   "source": [
    "num=24\n",
    "\n",
    "if num%2==0 :\n",
    "    print(\"even\")\n",
    "else:\n",
    "    print(\"odd\")"
   ]
  },
  {
   "cell_type": "code",
   "execution_count": 4,
   "id": "3d0af69f-df74-4b54-98c7-8615b6e0f60c",
   "metadata": {},
   "outputs": [],
   "source": [
    "## syntax for defining a function\n",
    "\n",
    "## def function_name(parameter1,parameter2,....):\n",
    "##     function body\n"
   ]
  },
  {
   "cell_type": "code",
   "execution_count": 6,
   "id": "3ae83e1e-1a4a-439d-aed6-3a49206c27ed",
   "metadata": {},
   "outputs": [],
   "source": [
    "# we are defining the function\n",
    "def even_odd(num):\n",
    "    if num%2==0 :\n",
    "      print(\"even\")\n",
    "    else:\n",
    "      print(\"odd\")\n",
    "    "
   ]
  },
  {
   "cell_type": "code",
   "execution_count": 8,
   "id": "651848f4-266f-4185-af95-8fe8f19feec5",
   "metadata": {},
   "outputs": [
    {
     "name": "stdout",
     "output_type": "stream",
     "text": [
      "even\n"
     ]
    }
   ],
   "source": [
    "# we are calling the above function\n",
    "even_odd(4)"
   ]
  },
  {
   "cell_type": "code",
   "execution_count": 10,
   "id": "5f3a0b35-c633-4dbb-942e-f8c90d6d5688",
   "metadata": {},
   "outputs": [],
   "source": [
    "# PRINT VS RETURN\n",
    "def hello_world():\n",
    "    print(\"Hii Abhi\")"
   ]
  },
  {
   "cell_type": "code",
   "execution_count": 12,
   "id": "2b4ff6c5-3ae9-414c-8f54-89619f5de97e",
   "metadata": {},
   "outputs": [
    {
     "name": "stdout",
     "output_type": "stream",
     "text": [
      "Hii Abhi\n"
     ]
    }
   ],
   "source": [
    "a=hello_world()"
   ]
  },
  {
   "cell_type": "code",
   "execution_count": 14,
   "id": "6f9a9e1e-8d7e-4416-b6c8-c62a13684d58",
   "metadata": {},
   "outputs": [
    {
     "name": "stdout",
     "output_type": "stream",
     "text": [
      "None\n"
     ]
    }
   ],
   "source": [
    "# if we are storing the function in one variable and printing it. it will be showing none because in the fn we r just printing it not returning the output\n",
    "print(a)"
   ]
  },
  {
   "cell_type": "code",
   "execution_count": 16,
   "id": "54ba6d93-35cb-4248-82c9-d5c3ffeffe58",
   "metadata": {},
   "outputs": [],
   "source": [
    "def hello_world():\n",
    "    return \"Hii Abhi\""
   ]
  },
  {
   "cell_type": "code",
   "execution_count": 18,
   "id": "b1e7761b-b4a0-4d03-b14c-4d4d074b4c9f",
   "metadata": {},
   "outputs": [],
   "source": [
    "a=hello_world()"
   ]
  },
  {
   "cell_type": "code",
   "execution_count": 20,
   "id": "1ae4d743-1209-4164-ba89-43c4f7fa1206",
   "metadata": {},
   "outputs": [
    {
     "name": "stdout",
     "output_type": "stream",
     "text": [
      "Hii Abhi\n"
     ]
    }
   ],
   "source": [
    "# if we are returning the value in the function and storing it in a variable if we print it then it will print the value\n",
    "# this is the difference between the print and return statements\n",
    "print(a)"
   ]
  },
  {
   "cell_type": "code",
   "execution_count": 22,
   "id": "ed4d9430-3db0-4c11-b471-9ad5dbed88d0",
   "metadata": {},
   "outputs": [],
   "source": [
    "def add(num1,num2):\n",
    "    return num1+num2"
   ]
  },
  {
   "cell_type": "code",
   "execution_count": 24,
   "id": "f47a4538-2d6d-4730-b983-ab50c2222956",
   "metadata": {},
   "outputs": [],
   "source": [
    "a=add(120,23)"
   ]
  },
  {
   "cell_type": "code",
   "execution_count": 26,
   "id": "783283aa-bc62-4702-a5b7-7cc7f6d446da",
   "metadata": {},
   "outputs": [
    {
     "data": {
      "text/plain": [
       "143"
      ]
     },
     "execution_count": 26,
     "metadata": {},
     "output_type": "execute_result"
    }
   ],
   "source": [
    "a"
   ]
  },
  {
   "cell_type": "code",
   "execution_count": 28,
   "id": "592f3878-ceee-45cf-bff7-cd45c2fb5e17",
   "metadata": {},
   "outputs": [],
   "source": [
    "# positional argument\n",
    "# keyword argument if we dont assin any valu to the it it will be positional argument \n",
    "# hello(positional arguments,keyword argument)\n",
    "def hello(name,age=20):\n",
    "    print(\"my name is {} my age is {} \".format(name,age))\n",
    "    "
   ]
  },
  {
   "cell_type": "code",
   "execution_count": 30,
   "id": "6fb86329-d643-45eb-b276-05c806087160",
   "metadata": {},
   "outputs": [
    {
     "name": "stdout",
     "output_type": "stream",
     "text": [
      "my name is Abhi my age is 20 \n"
     ]
    }
   ],
   "source": [
    "hello('Abhi')"
   ]
  },
  {
   "cell_type": "code",
   "execution_count": 32,
   "id": "9e83f80f-5ac4-45bb-ab25-82880b19f162",
   "metadata": {},
   "outputs": [],
   "source": [
    "def hello(name,age=20):\n",
    "    # we can also take the input like this \n",
    "    print(\"my name is\",name,\" my age is\",age)\n",
    "    "
   ]
  },
  {
   "cell_type": "code",
   "execution_count": 34,
   "id": "18cc0b64-307a-4257-8aa2-e630fa6a3ee0",
   "metadata": {},
   "outputs": [
    {
     "name": "stdout",
     "output_type": "stream",
     "text": [
      "my name is Aaryan  my age is 20\n"
     ]
    }
   ],
   "source": [
    "hello('Aaryan')"
   ]
  },
  {
   "cell_type": "code",
   "execution_count": 36,
   "id": "411f33e7-954b-45f2-9051-b086d5f043ca",
   "metadata": {},
   "outputs": [],
   "source": [
    "# *args is positional argument and **kwargs is keword argument\n",
    "\n",
    "def hello(*args,**kwargs):\n",
    "    print(args)\n",
    "    print(kwargs)"
   ]
  },
  {
   "cell_type": "code",
   "execution_count": 38,
   "id": "4d4c7d2e-ffd9-459e-b2ab-d3bcbea62e4d",
   "metadata": {},
   "outputs": [
    {
     "name": "stdout",
     "output_type": "stream",
     "text": [
      "('Aaryan', 'Thota')\n",
      "{'age': 20, 'dob': 2005}\n"
     ]
    }
   ],
   "source": [
    "hello('Aaryan','Thota',age=20,dob=2005)"
   ]
  },
  {
   "cell_type": "code",
   "execution_count": 40,
   "id": "5d1d6b9a-7001-4ca7-9291-aae070e0cc4d",
   "metadata": {},
   "outputs": [],
   "source": [
    "lst=['Aaryan','Thota']\n",
    "dic_args={'age': 20, 'dob': 2005}"
   ]
  },
  {
   "cell_type": "code",
   "execution_count": 42,
   "id": "5796fffb-01a6-4296-916d-71a2b015b60d",
   "metadata": {},
   "outputs": [
    {
     "name": "stdout",
     "output_type": "stream",
     "text": [
      "('Aaryan', 'Thota')\n",
      "{'age': 20, 'dob': 2005}\n"
     ]
    }
   ],
   "source": [
    "hello(*lst,**dic_args)"
   ]
  },
  {
   "cell_type": "code",
   "execution_count": 44,
   "id": "d9a04eb0-a732-4694-afff-fdfb7752fe8f",
   "metadata": {},
   "outputs": [],
   "source": [
    "lst=[1,2,3,4,5,6,7]"
   ]
  },
  {
   "cell_type": "code",
   "execution_count": 46,
   "id": "dfd5dab0-0b5e-4f49-8699-93a0850959ee",
   "metadata": {},
   "outputs": [],
   "source": [
    "def sum(lst):\n",
    "    even_sum=0\n",
    "    odd_sum=0\n",
    "    for i in lst:\n",
    "        if i%2==0:\n",
    "            even_sum+=i\n",
    "        else:\n",
    "            odd_sum+=i\n",
    "    return even_sum,odd_sum"
   ]
  },
  {
   "cell_type": "code",
   "execution_count": 48,
   "id": "86e430f2-693a-4508-b38f-1d6a01cff2f6",
   "metadata": {},
   "outputs": [
    {
     "data": {
      "text/plain": [
       "(12, 16)"
      ]
     },
     "execution_count": 48,
     "metadata": {},
     "output_type": "execute_result"
    }
   ],
   "source": [
    "sum(lst)"
   ]
  },
  {
   "cell_type": "code",
   "execution_count": 50,
   "id": "b1ae9206-6eeb-4799-ba0f-1e220a6e5042",
   "metadata": {},
   "outputs": [
    {
     "name": "stdin",
     "output_type": "stream",
     "text": [
      "enter the values into the list: 16\n"
     ]
    }
   ],
   "source": [
    "## if we want to give the input to the list then we use\n",
    "lst=list(input(\"enter the values into the list:\"))"
   ]
  },
  {
   "cell_type": "code",
   "execution_count": 52,
   "id": "624db0ee-1209-4ebd-ba03-67bd435a16a0",
   "metadata": {},
   "outputs": [
    {
     "name": "stdout",
     "output_type": "stream",
     "text": [
      "['1', '6']\n"
     ]
    }
   ],
   "source": [
    "print(lst)"
   ]
  },
  {
   "cell_type": "code",
   "execution_count": 54,
   "id": "22106c6a-f67e-4076-9c7f-ca80b58837a2",
   "metadata": {},
   "outputs": [],
   "source": [
    "lst=[1,2,3,4,5,6,7,8,9]"
   ]
  },
  {
   "cell_type": "code",
   "execution_count": 56,
   "id": "f3ccb327-a354-4abb-aed0-08673b41fcc7",
   "metadata": {},
   "outputs": [],
   "source": [
    "# adding the elements into the list and printing the sum of the elements in the list\n",
    "def add_list(lst):\n",
    "    sum=0\n",
    "    for i in lst:\n",
    "        sum += i\n",
    "    return sum"
   ]
  },
  {
   "cell_type": "code",
   "execution_count": 58,
   "id": "064b3b2b-0c3d-48aa-ac16-39982da1fec2",
   "metadata": {},
   "outputs": [
    {
     "data": {
      "text/plain": [
       "45"
      ]
     },
     "execution_count": 58,
     "metadata": {},
     "output_type": "execute_result"
    }
   ],
   "source": [
    "add_list(lst)"
   ]
  },
  {
   "cell_type": "markdown",
   "id": "74de21b2-5ad7-475b-ac7b-9e2b5beb779b",
   "metadata": {},
   "source": [
    "## Map function in python"
   ]
  },
  {
   "cell_type": "code",
   "execution_count": 61,
   "id": "091a429f-017b-49db-89dd-a4aa6d65b30d",
   "metadata": {},
   "outputs": [],
   "source": [
    "def even_or_odd(num):\n",
    "    if num%2==0:\n",
    "        return \"even {}\".format(num)\n",
    "    else:\n",
    "        return \"odd {}\".format(num)"
   ]
  },
  {
   "cell_type": "code",
   "execution_count": 63,
   "id": "53f8cf53-ea11-46a4-afe3-59813c9b1943",
   "metadata": {},
   "outputs": [
    {
     "data": {
      "text/plain": [
       "'even 12'"
      ]
     },
     "execution_count": 63,
     "metadata": {},
     "output_type": "execute_result"
    }
   ],
   "source": [
    "even_or_odd(12)"
   ]
  },
  {
   "cell_type": "code",
   "execution_count": 65,
   "id": "e453e8c4-1e2f-4170-bf0a-d6cebacff44a",
   "metadata": {},
   "outputs": [],
   "source": [
    "lst=[1,2,3,4,5,6,7,8,9,12,13,15,1,8,19]"
   ]
  },
  {
   "cell_type": "code",
   "execution_count": 67,
   "id": "d52e1788-a16d-4479-a809-878314e00669",
   "metadata": {},
   "outputs": [],
   "source": [
    "def even_odd(lst):\n",
    "    for i in lst:\n",
    "        if i%2==0:\n",
    "            return i\n",
    "        else:\n",
    "            return i"
   ]
  },
  {
   "cell_type": "code",
   "execution_count": 69,
   "id": "9b96b10d-7d9b-41a2-b56b-1830444eace5",
   "metadata": {},
   "outputs": [
    {
     "data": {
      "text/plain": [
       "1"
      ]
     },
     "execution_count": 69,
     "metadata": {},
     "output_type": "execute_result"
    }
   ],
   "source": [
    "even_odd(lst)"
   ]
  },
  {
   "cell_type": "code",
   "execution_count": 71,
   "id": "1c47efe5-c0f7-4b9a-926b-b9457d6c7ef5",
   "metadata": {},
   "outputs": [
    {
     "data": {
      "text/plain": [
       "['odd 1',\n",
       " 'even 2',\n",
       " 'odd 3',\n",
       " 'even 4',\n",
       " 'odd 5',\n",
       " 'even 6',\n",
       " 'odd 7',\n",
       " 'even 8',\n",
       " 'odd 9',\n",
       " 'even 12',\n",
       " 'odd 13',\n",
       " 'odd 15',\n",
       " 'odd 1',\n",
       " 'even 8',\n",
       " 'odd 19']"
      ]
     },
     "execution_count": 71,
     "metadata": {},
     "output_type": "execute_result"
    }
   ],
   "source": [
    "list(map(even_or_odd,lst))"
   ]
  },
  {
   "cell_type": "code",
   "execution_count": null,
   "id": "999fd9d9-7061-4eb5-a5ee-6202dd6b18b5",
   "metadata": {},
   "outputs": [],
   "source": []
  },
  {
   "cell_type": "markdown",
   "id": "584f812b-8b58-4eea-b981-4b257c7a0538",
   "metadata": {},
   "source": [
    "## Lambda function\n",
    "\n",
    "it is also called as anonymous function and function with no name "
   ]
  },
  {
   "cell_type": "code",
   "execution_count": 75,
   "id": "9460a10d-91cf-4e64-9c85-1846d003f6ee",
   "metadata": {},
   "outputs": [],
   "source": [
    "def addition(a,b):\n",
    "    return a+b"
   ]
  },
  {
   "cell_type": "code",
   "execution_count": 77,
   "id": "7b16ae9f-e6aa-4f15-85e3-0ba5f74179ae",
   "metadata": {},
   "outputs": [
    {
     "data": {
      "text/plain": [
       "143"
      ]
     },
     "execution_count": 77,
     "metadata": {},
     "output_type": "execute_result"
    }
   ],
   "source": [
    "addition(93,50)"
   ]
  },
  {
   "cell_type": "code",
   "execution_count": 79,
   "id": "12df3e16-30ea-4a6f-9e4d-247e39fd6510",
   "metadata": {},
   "outputs": [],
   "source": [
    "add=lambda a,b:a+b"
   ]
  },
  {
   "cell_type": "code",
   "execution_count": 81,
   "id": "ae02a64c-8069-466b-89c3-078fb0a0cc8a",
   "metadata": {},
   "outputs": [
    {
     "data": {
      "text/plain": [
       "69"
      ]
     },
     "execution_count": 81,
     "metadata": {},
     "output_type": "execute_result"
    }
   ],
   "source": [
    "add(13,56)"
   ]
  },
  {
   "cell_type": "code",
   "execution_count": 83,
   "id": "110c3ea2-6df1-4478-8ba5-49ef431b9621",
   "metadata": {},
   "outputs": [],
   "source": [
    "def even(num):\n",
    "    if num%2==0:\n",
    "        return True"
   ]
  },
  {
   "cell_type": "code",
   "execution_count": 85,
   "id": "2d5e53b1-a922-48b8-967a-0fa1c636e6c9",
   "metadata": {},
   "outputs": [
    {
     "data": {
      "text/plain": [
       "True"
      ]
     },
     "execution_count": 85,
     "metadata": {},
     "output_type": "execute_result"
    }
   ],
   "source": [
    "even(24)"
   ]
  },
  {
   "cell_type": "code",
   "execution_count": 87,
   "id": "415130be-84d6-4ac5-a9dd-303d0b9de7f4",
   "metadata": {},
   "outputs": [],
   "source": [
    "even1=lambda a:a%2==0"
   ]
  },
  {
   "cell_type": "code",
   "execution_count": 89,
   "id": "0c0b0158-f05d-4a76-b402-7d44efcbcb8f",
   "metadata": {},
   "outputs": [
    {
     "data": {
      "text/plain": [
       "True"
      ]
     },
     "execution_count": 89,
     "metadata": {},
     "output_type": "execute_result"
    }
   ],
   "source": [
    "even1(36)"
   ]
  },
  {
   "cell_type": "code",
   "execution_count": 91,
   "id": "d3ed2fd2-492b-4086-b9b7-20a451ee9859",
   "metadata": {},
   "outputs": [],
   "source": [
    "def add(x,y,z):\n",
    "    return x+y+z"
   ]
  },
  {
   "cell_type": "code",
   "execution_count": 93,
   "id": "2a5a238c-6128-4364-b337-4541f15715db",
   "metadata": {},
   "outputs": [
    {
     "data": {
      "text/plain": [
       "21"
      ]
     },
     "execution_count": 93,
     "metadata": {},
     "output_type": "execute_result"
    }
   ],
   "source": [
    "add(12,3,6)"
   ]
  },
  {
   "cell_type": "code",
   "execution_count": 95,
   "id": "c2f02467-c404-4d8b-bce9-492ca93a5821",
   "metadata": {},
   "outputs": [],
   "source": [
    "a=lambda x,y,z:x+y+z"
   ]
  },
  {
   "cell_type": "code",
   "execution_count": 97,
   "id": "917b7499-bf0a-4a5e-bcb9-aa0848cd6bc4",
   "metadata": {},
   "outputs": [
    {
     "data": {
      "text/plain": [
       "96"
      ]
     },
     "execution_count": 97,
     "metadata": {},
     "output_type": "execute_result"
    }
   ],
   "source": [
    "a(12,36,48)"
   ]
  },
  {
   "cell_type": "markdown",
   "id": "e29bc6c4-9c17-49f5-ab51-d6568f478ef6",
   "metadata": {},
   "source": [
    "## Filter function in python"
   ]
  },
  {
   "cell_type": "code",
   "execution_count": 100,
   "id": "87653fad-4d2b-48f9-b991-4c7cfbfd3502",
   "metadata": {},
   "outputs": [],
   "source": [
    "def even(num):\n",
    "    if num%2==0:\n",
    "        return True"
   ]
  },
  {
   "cell_type": "code",
   "execution_count": 102,
   "id": "46f8d8ad-c9cf-4b93-9858-3514c7e4509f",
   "metadata": {},
   "outputs": [],
   "source": [
    "lst=[1,2,3,4,5,6,7,8]"
   ]
  },
  {
   "cell_type": "code",
   "execution_count": 104,
   "id": "6a8140c6-dc2d-4151-936e-96a05f98900d",
   "metadata": {},
   "outputs": [
    {
     "data": {
      "text/plain": [
       "[2, 4, 6, 8]"
      ]
     },
     "execution_count": 104,
     "metadata": {},
     "output_type": "execute_result"
    }
   ],
   "source": [
    "# it gets the elements which are even only from the list\n",
    "list(filter(even,lst))"
   ]
  },
  {
   "cell_type": "code",
   "execution_count": 106,
   "id": "125ec502-8398-48fa-a21b-89318177bf33",
   "metadata": {},
   "outputs": [],
   "source": [
    "def odd(num):\n",
    "    if num%2!=0:\n",
    "        return True"
   ]
  },
  {
   "cell_type": "code",
   "execution_count": 108,
   "id": "fe62a313-801a-454d-b45a-dbf60e6b9a94",
   "metadata": {},
   "outputs": [
    {
     "data": {
      "text/plain": [
       "[1, 3, 5, 7]"
      ]
     },
     "execution_count": 108,
     "metadata": {},
     "output_type": "execute_result"
    }
   ],
   "source": [
    "list(filter(odd,lst))"
   ]
  },
  {
   "cell_type": "code",
   "execution_count": 110,
   "id": "6d8e6444-9add-4dd6-8c6d-e7d12864b049",
   "metadata": {},
   "outputs": [
    {
     "data": {
      "text/plain": [
       "[2, 4, 6, 8]"
      ]
     },
     "execution_count": 110,
     "metadata": {},
     "output_type": "execute_result"
    }
   ],
   "source": [
    "list(filter(lambda num:num%2==0,lst))"
   ]
  },
  {
   "cell_type": "code",
   "execution_count": 112,
   "id": "b605b7fc-4b53-4a24-a13b-f8427712200a",
   "metadata": {},
   "outputs": [
    {
     "data": {
      "text/plain": [
       "[1, 3, 5, 7]"
      ]
     },
     "execution_count": 112,
     "metadata": {},
     "output_type": "execute_result"
    }
   ],
   "source": [
    "list(filter(lambda num:num%2!=0,lst))"
   ]
  },
  {
   "cell_type": "code",
   "execution_count": 114,
   "id": "c230dfbb-2c58-43e5-978c-bf5bec549c36",
   "metadata": {},
   "outputs": [
    {
     "data": {
      "text/plain": [
       "[False, True, False, True, False, True, False, True]"
      ]
     },
     "execution_count": 114,
     "metadata": {},
     "output_type": "execute_result"
    }
   ],
   "source": [
    "list(map(lambda num:num%2==0,lst))"
   ]
  },
  {
   "cell_type": "code",
   "execution_count": null,
   "id": "ffa9e9a9-61f9-48ea-833e-b4011a5175e7",
   "metadata": {},
   "outputs": [],
   "source": []
  },
  {
   "cell_type": "code",
   "execution_count": null,
   "id": "125d1788-d6b0-4add-9007-03872bc9f3d1",
   "metadata": {},
   "outputs": [],
   "source": []
  },
  {
   "cell_type": "code",
   "execution_count": null,
   "id": "641a8cbf-49e9-4f15-8db1-ba41497a8e6c",
   "metadata": {},
   "outputs": [],
   "source": []
  },
  {
   "cell_type": "markdown",
   "id": "67121f02-d9be-41f1-9c91-7247dcca88f1",
   "metadata": {},
   "source": [
    "## List Comprehension\n",
    "\n",
    "List comprehension provide a concise way to create lists. It consists of brackets containing an expression followed by a for clause,then zero or more for or if clauses.The expressions can be anything,meaning you can put in all kinds of objects in lists."
   ]
  },
  {
   "cell_type": "code",
   "execution_count": 120,
   "id": "81288826-42b7-490d-86d0-cef240db1ac6",
   "metadata": {},
   "outputs": [],
   "source": [
    "# here for sq the nums present in the list we are writing a code for the 3-4 line instead of it to make it simple we will be using list comprehension \n",
    "lst1=[]\n",
    "def lst_sq(lst):\n",
    "    for  i in lst:\n",
    "        lst1.append(i*i)\n",
    "    return lst1"
   ]
  },
  {
   "cell_type": "code",
   "execution_count": 122,
   "id": "7ced503c-503e-4bd9-b6a9-6f26bb430499",
   "metadata": {},
   "outputs": [
    {
     "data": {
      "text/plain": [
       "[1, 4, 9, 16, 25, 36]"
      ]
     },
     "execution_count": 122,
     "metadata": {},
     "output_type": "execute_result"
    }
   ],
   "source": [
    "lst_sq([1,2,3,4,5,6])"
   ]
  },
  {
   "cell_type": "code",
   "execution_count": 124,
   "id": "e82a0681-ceea-4fb7-af9f-8a2c3b4c2298",
   "metadata": {},
   "outputs": [
    {
     "data": {
      "text/plain": [
       "[1, 4, 9, 16, 25, 36]"
      ]
     },
     "execution_count": 124,
     "metadata": {},
     "output_type": "execute_result"
    }
   ],
   "source": [
    "# list compression \n",
    "lst=[1,2,3,4,5,6]\n",
    "[i*i for i in lst]"
   ]
  },
  {
   "cell_type": "code",
   "execution_count": 126,
   "id": "f26ac487-eb28-49bf-9705-ef376576286f",
   "metadata": {},
   "outputs": [
    {
     "data": {
      "text/plain": [
       "[4, 16, 36]"
      ]
     },
     "execution_count": 126,
     "metadata": {},
     "output_type": "execute_result"
    }
   ],
   "source": [
    "# if we want to print the even square in the list\n",
    "lst=[1,2,3,4,5,6]\n",
    "[i*i for i in lst if i%2==0]"
   ]
  },
  {
   "cell_type": "code",
   "execution_count": null,
   "id": "90021dac-0eb4-4001-892b-9e3cec7f30ae",
   "metadata": {},
   "outputs": [],
   "source": []
  },
  {
   "cell_type": "markdown",
   "id": "8bd7e89f-f8f0-49b0-b727-ceb26594a3f7",
   "metadata": {},
   "source": [
    "## String Formatting in Python"
   ]
  },
  {
   "cell_type": "code",
   "execution_count": 130,
   "id": "7685cb44-d5ca-4bd3-8b58-3c9f1a1354cf",
   "metadata": {},
   "outputs": [
    {
     "name": "stdout",
     "output_type": "stream",
     "text": [
      "Hello Abhi\n"
     ]
    }
   ],
   "source": [
    "print(\"Hello Abhi\")"
   ]
  },
  {
   "cell_type": "code",
   "execution_count": 132,
   "id": "931ee92d-bc57-45d4-8881-c0004638e9d6",
   "metadata": {},
   "outputs": [],
   "source": [
    "def greeting(name):\n",
    "    return \"Hello {}. welcome to the community\".format(name)"
   ]
  },
  {
   "cell_type": "code",
   "execution_count": 134,
   "id": "0623998f-bec3-43c2-9aaa-7b8b9112ef23",
   "metadata": {},
   "outputs": [
    {
     "data": {
      "text/plain": [
       "'Hello abhi. welcome to the community'"
      ]
     },
     "execution_count": 134,
     "metadata": {},
     "output_type": "execute_result"
    }
   ],
   "source": [
    "greeting('abhi')"
   ]
  },
  {
   "cell_type": "code",
   "execution_count": 136,
   "id": "691336b6-6e93-4c7d-a3a6-f4726a5558c5",
   "metadata": {},
   "outputs": [],
   "source": [
    "def welcome(firstname,lastname):\n",
    "    return \"my name is {} {}\".format(firstname,lastname)"
   ]
  },
  {
   "cell_type": "code",
   "execution_count": 138,
   "id": "c18badc5-c4dc-4dc3-b690-6adba8421d36",
   "metadata": {},
   "outputs": [
    {
     "data": {
      "text/plain": [
       "'my name is Aaryan Thota'"
      ]
     },
     "execution_count": 138,
     "metadata": {},
     "output_type": "execute_result"
    }
   ],
   "source": [
    "welcome('Aaryan','Thota')"
   ]
  },
  {
   "cell_type": "code",
   "execution_count": null,
   "id": "06bf61e6-a290-41a3-8c3e-176e8776321c",
   "metadata": {},
   "outputs": [],
   "source": []
  },
  {
   "cell_type": "markdown",
   "id": "bb9a35cd-2042-4472-a7a5-f731577b5a62",
   "metadata": {},
   "source": [
    "## Python List Iterables vs iterators"
   ]
  },
  {
   "cell_type": "code",
   "execution_count": 142,
   "id": "8cca8b07-7edf-443e-b366-5c1b91dc4054",
   "metadata": {},
   "outputs": [
    {
     "name": "stdout",
     "output_type": "stream",
     "text": [
      "1\n",
      "2\n",
      "3\n",
      "4\n",
      "5\n",
      "6\n"
     ]
    }
   ],
   "source": [
    "## list is iterable\n",
    "\n",
    "lst=[1,2,3,4,5,6]\n",
    "\n",
    "for i in lst:\n",
    "    print(i)"
   ]
  },
  {
   "cell_type": "code",
   "execution_count": 144,
   "id": "365feb82-7a1a-4de2-b1ef-abe5d30470f5",
   "metadata": {},
   "outputs": [],
   "source": [
    "# this function will convert iterables to iterators\n",
    "lst1=iter(lst)"
   ]
  },
  {
   "cell_type": "code",
   "execution_count": 146,
   "id": "270169c0-36b0-4367-adcf-1f1c71ebf438",
   "metadata": {},
   "outputs": [
    {
     "data": {
      "text/plain": [
       "<list_iterator at 0x217181f4340>"
      ]
     },
     "execution_count": 146,
     "metadata": {},
     "output_type": "execute_result"
    }
   ],
   "source": [
    "lst1"
   ]
  },
  {
   "cell_type": "code",
   "execution_count": 148,
   "id": "4dad2567-03b6-4d0f-9194-c315a8dcc9ab",
   "metadata": {},
   "outputs": [
    {
     "data": {
      "text/plain": [
       "1"
      ]
     },
     "execution_count": 148,
     "metadata": {},
     "output_type": "execute_result"
    }
   ],
   "source": [
    "# next will be retriving the elements one by one \n",
    "next(lst1)"
   ]
  },
  {
   "cell_type": "code",
   "execution_count": 150,
   "id": "8444b387-cefd-48b9-97e1-16c2c2bcd4e8",
   "metadata": {},
   "outputs": [
    {
     "name": "stdout",
     "output_type": "stream",
     "text": [
      "2\n",
      "3\n",
      "4\n",
      "5\n",
      "6\n"
     ]
    }
   ],
   "source": [
    "for i in lst1 :\n",
    "    print(i)"
   ]
  },
  {
   "cell_type": "code",
   "execution_count": null,
   "id": "c7d3bfb5-e7ff-4bf5-ad20-3ab9eed1df41",
   "metadata": {},
   "outputs": [],
   "source": []
  }
 ],
 "metadata": {
  "kernelspec": {
   "display_name": "Python [conda env:base] *",
   "language": "python",
   "name": "conda-base-py"
  },
  "language_info": {
   "codemirror_mode": {
    "name": "ipython",
    "version": 3
   },
   "file_extension": ".py",
   "mimetype": "text/x-python",
   "name": "python",
   "nbconvert_exporter": "python",
   "pygments_lexer": "ipython3",
   "version": "3.12.7"
  }
 },
 "nbformat": 4,
 "nbformat_minor": 5
}
