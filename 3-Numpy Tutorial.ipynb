{
 "cells": [
  {
   "cell_type": "markdown",
   "id": "5b95e628-c148-4f2d-ac01-5d10ee116b8a",
   "metadata": {},
   "source": [
    "## Numpy Tutorials\n",
    "NumPy is a general-purpose array-processing package. It provides a high-performance multidimensional array object, and tools for working with these arrays. It is the fundamental package for scientific computing with Python\n",
    "\n",
    "## What is an array\n",
    "An array is a data structure that stores values of same data type. In Python, this is the main difference between arrays and lists. While python lists can contain values corresponding to different data types, arrays in python can only contain values corresponding to same data type"
   ]
  },
  {
   "cell_type": "code",
   "execution_count": 2,
   "id": "1c9256fe-a609-4f6b-8e8e-c7ada0f84f96",
   "metadata": {},
   "outputs": [],
   "source": [
    "import numpy as np"
   ]
  },
  {
   "cell_type": "code",
   "execution_count": 4,
   "id": "6d7899db-20c7-4e31-8ed2-73919a0f2e77",
   "metadata": {},
   "outputs": [],
   "source": [
    "my_lst=[1,2,3,4]\n",
    "arr=np.array(my_lst)"
   ]
  },
  {
   "cell_type": "code",
   "execution_count": 6,
   "id": "e2e37f96-e114-4010-87eb-a639710b3f00",
   "metadata": {},
   "outputs": [
    {
     "data": {
      "text/plain": [
       "numpy.ndarray"
      ]
     },
     "execution_count": 6,
     "metadata": {},
     "output_type": "execute_result"
    }
   ],
   "source": [
    "type(arr)"
   ]
  },
  {
   "cell_type": "code",
   "execution_count": 8,
   "id": "1f53d2b2-94c0-4a55-afc0-aaa19104350b",
   "metadata": {},
   "outputs": [
    {
     "data": {
      "text/plain": [
       "array([1, 2, 3, 4])"
      ]
     },
     "execution_count": 8,
     "metadata": {},
     "output_type": "execute_result"
    }
   ],
   "source": [
    "# if we print arr  then output is different\n",
    "arr"
   ]
  },
  {
   "cell_type": "code",
   "execution_count": 10,
   "id": "825f0ffa-d0c0-4372-b795-a5642ca0b839",
   "metadata": {},
   "outputs": [
    {
     "name": "stdout",
     "output_type": "stream",
     "text": [
      "[1 2 3 4]\n"
     ]
    }
   ],
   "source": [
    "print(arr)"
   ]
  },
  {
   "cell_type": "code",
   "execution_count": 12,
   "id": "03a14052-4cff-4bb9-8852-3803322cba6b",
   "metadata": {},
   "outputs": [
    {
     "data": {
      "text/plain": [
       "(4,)"
      ]
     },
     "execution_count": 12,
     "metadata": {},
     "output_type": "execute_result"
    }
   ],
   "source": [
    "# it will display the no of rows and and columns in the array if it is 1-D array then it will just display the rows\n",
    "arr.shape"
   ]
  },
  {
   "cell_type": "code",
   "execution_count": 14,
   "id": "4c2808de-f25d-48e2-8241-e13fa2587711",
   "metadata": {},
   "outputs": [],
   "source": [
    "l1=[1,2,3,4,5]\n",
    "l2=[2,3,4,5,6]\n",
    "l3=[5,6,4,8,9]\n",
    "arr=np.array([l1,l2,l3])"
   ]
  },
  {
   "cell_type": "code",
   "execution_count": 16,
   "id": "0bcebaad-75d8-4a1e-aaac-116f52366fa1",
   "metadata": {},
   "outputs": [
    {
     "data": {
      "text/plain": [
       "array([[1, 2, 3, 4, 5],\n",
       "       [2, 3, 4, 5, 6],\n",
       "       [5, 6, 4, 8, 9]])"
      ]
     },
     "execution_count": 16,
     "metadata": {},
     "output_type": "execute_result"
    }
   ],
   "source": [
    "arr"
   ]
  },
  {
   "cell_type": "code",
   "execution_count": 18,
   "id": "bf64e0cd-efa8-4f90-9ede-42125148f06d",
   "metadata": {},
   "outputs": [
    {
     "data": {
      "text/plain": [
       "(3, 5)"
      ]
     },
     "execution_count": 18,
     "metadata": {},
     "output_type": "execute_result"
    }
   ],
   "source": [
    "arr.shape"
   ]
  },
  {
   "cell_type": "code",
   "execution_count": 20,
   "id": "afb4cc39-7a29-489e-ac17-d4ebc8c8004d",
   "metadata": {},
   "outputs": [
    {
     "data": {
      "text/plain": [
       "array([[1, 2, 3],\n",
       "       [4, 5, 2],\n",
       "       [3, 4, 5],\n",
       "       [6, 5, 6],\n",
       "       [4, 8, 9]])"
      ]
     },
     "execution_count": 20,
     "metadata": {},
     "output_type": "execute_result"
    }
   ],
   "source": [
    "# we use it to reshape the dimentions of the array and it should not extend the no of elements in the main array \n",
    "arr.reshape(5,3)"
   ]
  },
  {
   "cell_type": "code",
   "execution_count": 22,
   "id": "91ff9fbd-469f-4388-a468-7a37edb82771",
   "metadata": {},
   "outputs": [],
   "source": [
    "# accessing the arr elements \n",
    "arr=np.array([1,2,3,4,5,6,7,8,9])"
   ]
  },
  {
   "cell_type": "code",
   "execution_count": 24,
   "id": "612bf50c-4084-483f-af87-d10f91b517be",
   "metadata": {},
   "outputs": [
    {
     "data": {
      "text/plain": [
       "numpy.ndarray"
      ]
     },
     "execution_count": 24,
     "metadata": {},
     "output_type": "execute_result"
    }
   ],
   "source": [
    "type(arr)"
   ]
  },
  {
   "cell_type": "code",
   "execution_count": 26,
   "id": "909f7965-e3bd-4f85-a26b-4c5372217871",
   "metadata": {},
   "outputs": [
    {
     "data": {
      "text/plain": [
       "4"
      ]
     },
     "execution_count": 26,
     "metadata": {},
     "output_type": "execute_result"
    }
   ],
   "source": [
    "arr[3]"
   ]
  },
  {
   "cell_type": "code",
   "execution_count": 28,
   "id": "36314517-d83d-4c37-addc-989d2382a1e8",
   "metadata": {},
   "outputs": [],
   "source": [
    "l1=[1,2,3,4,5]\n",
    "l2=[2,3,4,5,6]\n",
    "l3=[5,6,4,8,9]\n",
    "arr=np.array([l1,l2,l3])"
   ]
  },
  {
   "cell_type": "code",
   "execution_count": 30,
   "id": "27e4b5bb-2aa6-4f2d-bd37-84fc548c56e5",
   "metadata": {},
   "outputs": [
    {
     "data": {
      "text/plain": [
       "array([[1, 2, 3, 4, 5],\n",
       "       [2, 3, 4, 5, 6],\n",
       "       [5, 6, 4, 8, 9]])"
      ]
     },
     "execution_count": 30,
     "metadata": {},
     "output_type": "execute_result"
    }
   ],
   "source": [
    "# accessing the elements in the 2-D array\n",
    "# to access all the elements in the array\n",
    "arr[:]"
   ]
  },
  {
   "cell_type": "code",
   "execution_count": 32,
   "id": "1a3b799e-ef75-4090-beb3-0b605ca61773",
   "metadata": {},
   "outputs": [
    {
     "data": {
      "text/plain": [
       "array([[1, 2, 3],\n",
       "       [2, 3, 4]])"
      ]
     },
     "execution_count": 32,
     "metadata": {},
     "output_type": "execute_result"
    }
   ],
   "source": [
    "# to access the required elements in the array the syntax is same we need to mention the rows and colums\n",
    "# arr[starting index of row : ending index of row,starting of column: ending index of column]\n",
    "arr[0:2,0:3]\n"
   ]
  },
  {
   "cell_type": "code",
   "execution_count": 34,
   "id": "b05d36a2-5196-4653-86fc-5228e57f80af",
   "metadata": {},
   "outputs": [
    {
     "data": {
      "text/plain": [
       "array([[1, 2, 3],\n",
       "       [2, 3, 4]])"
      ]
     },
     "execution_count": 34,
     "metadata": {},
     "output_type": "execute_result"
    }
   ],
   "source": [
    "arr[0:2 ,0:3]"
   ]
  },
  {
   "cell_type": "code",
   "execution_count": 36,
   "id": "7c0aa809-ad99-4c4c-bc32-34ca6ebe045f",
   "metadata": {},
   "outputs": [
    {
     "data": {
      "text/plain": [
       "array([[3, 4, 5]])"
      ]
     },
     "execution_count": 36,
     "metadata": {},
     "output_type": "execute_result"
    }
   ],
   "source": [
    "arr[1:2 ,1:4]"
   ]
  },
  {
   "cell_type": "code",
   "execution_count": 38,
   "id": "31ee4058-f4fb-4c4f-97d1-64da80f735e5",
   "metadata": {},
   "outputs": [],
   "source": [
    "# we need to create an array from one range to another range ##(start,stop,step)\n",
    "arr=np.arange(0,10)"
   ]
  },
  {
   "cell_type": "code",
   "execution_count": 40,
   "id": "43916cef-ed80-4421-b4eb-57a6d1d637c1",
   "metadata": {},
   "outputs": [
    {
     "data": {
      "text/plain": [
       "array([0, 1, 2, 3, 4, 5, 6, 7, 8, 9])"
      ]
     },
     "execution_count": 40,
     "metadata": {},
     "output_type": "execute_result"
    }
   ],
   "source": [
    "arr"
   ]
  },
  {
   "cell_type": "code",
   "execution_count": 42,
   "id": "3df21964-2135-433d-b117-9aec024d150f",
   "metadata": {},
   "outputs": [
    {
     "data": {
      "text/plain": [
       "array([ 1.        ,  1.18367347,  1.36734694,  1.55102041,  1.73469388,\n",
       "        1.91836735,  2.10204082,  2.28571429,  2.46938776,  2.65306122,\n",
       "        2.83673469,  3.02040816,  3.20408163,  3.3877551 ,  3.57142857,\n",
       "        3.75510204,  3.93877551,  4.12244898,  4.30612245,  4.48979592,\n",
       "        4.67346939,  4.85714286,  5.04081633,  5.2244898 ,  5.40816327,\n",
       "        5.59183673,  5.7755102 ,  5.95918367,  6.14285714,  6.32653061,\n",
       "        6.51020408,  6.69387755,  6.87755102,  7.06122449,  7.24489796,\n",
       "        7.42857143,  7.6122449 ,  7.79591837,  7.97959184,  8.16326531,\n",
       "        8.34693878,  8.53061224,  8.71428571,  8.89795918,  9.08163265,\n",
       "        9.26530612,  9.44897959,  9.63265306,  9.81632653, 10.        ])"
      ]
     },
     "execution_count": 42,
     "metadata": {},
     "output_type": "execute_result"
    }
   ],
   "source": [
    "# by using linspace we will be generating nums up to the nums mentioned in nums value (start,end, nums) \n",
    "np.linspace(1,10,50)"
   ]
  },
  {
   "cell_type": "code",
   "execution_count": 44,
   "id": "bd5c39ab-69a8-4eaa-8cb4-8a18dedee8bd",
   "metadata": {},
   "outputs": [],
   "source": [
    "arr=np.array([1,2,3,4,5,6,7,8,9])"
   ]
  },
  {
   "cell_type": "code",
   "execution_count": 46,
   "id": "7682f62b-676f-480d-9903-cd5c780955f0",
   "metadata": {},
   "outputs": [
    {
     "data": {
      "text/plain": [
       "array([1, 2, 3, 4, 5, 6, 7, 8, 9])"
      ]
     },
     "execution_count": 46,
     "metadata": {},
     "output_type": "execute_result"
    }
   ],
   "source": [
    "arr"
   ]
  },
  {
   "cell_type": "code",
   "execution_count": 48,
   "id": "a9945bcc-3183-48c6-aea4-3d23b05dedac",
   "metadata": {},
   "outputs": [],
   "source": [
    "# copy fn and broadcasting \n",
    "# replacing the elements from the index 3 to last index\n",
    "arr[3:]=100"
   ]
  },
  {
   "cell_type": "code",
   "execution_count": 50,
   "id": "01478c9d-ae5d-4f58-87a7-2d8bbac55850",
   "metadata": {},
   "outputs": [
    {
     "data": {
      "text/plain": [
       "array([  1,   2,   3, 100, 100, 100, 100, 100, 100])"
      ]
     },
     "execution_count": 50,
     "metadata": {},
     "output_type": "execute_result"
    }
   ],
   "source": [
    "arr"
   ]
  },
  {
   "cell_type": "code",
   "execution_count": 52,
   "id": "b549941f-70b5-4da9-953d-d05c6ed26fc6",
   "metadata": {},
   "outputs": [],
   "source": [
    "arr1=arr.copy()"
   ]
  },
  {
   "cell_type": "code",
   "execution_count": 54,
   "id": "3c0c06a3-75fa-4f4f-80ce-827781c74727",
   "metadata": {},
   "outputs": [
    {
     "name": "stdout",
     "output_type": "stream",
     "text": [
      "[  1   2   3 100 100 100 100 100 100]\n",
      "[  1   2   3 500 500 500 500 500 500]\n"
     ]
    }
   ],
   "source": [
    "print(arr)\n",
    "arr1[3:]=500\n",
    "print(arr1)"
   ]
  },
  {
   "cell_type": "code",
   "execution_count": 56,
   "id": "521919e2-8f38-460a-ad32-cc4f601cff06",
   "metadata": {},
   "outputs": [
    {
     "data": {
      "text/plain": [
       "array([  1,   2,   3, 100, 100, 100, 100, 100, 100])"
      ]
     },
     "execution_count": 56,
     "metadata": {},
     "output_type": "execute_result"
    }
   ],
   "source": [
    "arr"
   ]
  },
  {
   "cell_type": "code",
   "execution_count": 58,
   "id": "4a9a6416-4f7b-4d0c-9db8-da310a3f4e0a",
   "metadata": {},
   "outputs": [],
   "source": [
    "arr1=arr.copy()"
   ]
  },
  {
   "cell_type": "code",
   "execution_count": 60,
   "id": "a44401a0-2bab-4605-91fc-50caf3ceb4c5",
   "metadata": {},
   "outputs": [
    {
     "data": {
      "text/plain": [
       "array([ True, False, False, False, False, False, False, False, False])"
      ]
     },
     "execution_count": 60,
     "metadata": {},
     "output_type": "execute_result"
    }
   ],
   "source": [
    "### based on conditions also we can access the data\n",
    "# here we take the elements which are lessthan 2\n",
    "val=2\n",
    "arr<val"
   ]
  },
  {
   "cell_type": "code",
   "execution_count": 62,
   "id": "588604bb-8a7c-42f6-81c8-a3cac00d504e",
   "metadata": {},
   "outputs": [
    {
     "data": {
      "text/plain": [
       "array([1])"
      ]
     },
     "execution_count": 62,
     "metadata": {},
     "output_type": "execute_result"
    }
   ],
   "source": [
    "arr[arr<val]"
   ]
  },
  {
   "cell_type": "code",
   "execution_count": 64,
   "id": "f67d17c9-7e15-43f9-83b5-12d64b7f2a9d",
   "metadata": {},
   "outputs": [
    {
     "data": {
      "text/plain": [
       "array([  2,   4,   6, 200, 200, 200, 200, 200, 200])"
      ]
     },
     "execution_count": 64,
     "metadata": {},
     "output_type": "execute_result"
    }
   ],
   "source": [
    "# if we want to multiply the elements in the array by 2 \n",
    "arr*2"
   ]
  },
  {
   "cell_type": "code",
   "execution_count": 66,
   "id": "63b3bf0c-bb98-493d-abd3-49abfe9b3eab",
   "metadata": {},
   "outputs": [
    {
     "data": {
      "text/plain": [
       "array([[0, 1],\n",
       "       [2, 3],\n",
       "       [4, 5],\n",
       "       [6, 7],\n",
       "       [8, 9]])"
      ]
     },
     "execution_count": 66,
     "metadata": {},
     "output_type": "execute_result"
    }
   ],
   "source": [
    "# converting the 1-D array into 2-D array by reshaping it\n",
    "np.arange(0,10).reshape(5,2)"
   ]
  },
  {
   "cell_type": "code",
   "execution_count": 68,
   "id": "a91d74be-e9e1-4069-90ae-d6bc39eb33e7",
   "metadata": {},
   "outputs": [
    {
     "data": {
      "text/plain": [
       "array([[0, 1, 2, 3, 4],\n",
       "       [5, 6, 7, 8, 9]])"
      ]
     },
     "execution_count": 68,
     "metadata": {},
     "output_type": "execute_result"
    }
   ],
   "source": [
    "np.arange(0,10).reshape(2,5)"
   ]
  },
  {
   "cell_type": "code",
   "execution_count": 70,
   "id": "8ffebe1a-1d08-4dc3-a62c-fb3c83e494c3",
   "metadata": {},
   "outputs": [
    {
     "data": {
      "text/plain": [
       "array([1., 1., 1., 1.])"
      ]
     },
     "execution_count": 70,
     "metadata": {},
     "output_type": "execute_result"
    }
   ],
   "source": [
    "# if we want to create an array containing 1 in it \n",
    "np.ones(4)"
   ]
  },
  {
   "cell_type": "code",
   "execution_count": 72,
   "id": "55300702-7df6-4adc-9e13-4005c5f0cfd3",
   "metadata": {},
   "outputs": [
    {
     "data": {
      "text/plain": [
       "array([[1, 1, 1, 1],\n",
       "       [1, 1, 1, 1]])"
      ]
     },
     "execution_count": 72,
     "metadata": {},
     "output_type": "execute_result"
    }
   ],
   "source": [
    "# in the above the values are displayed in the float pointrs if we need int type \n",
    "np.ones((2,4),dtype=int)"
   ]
  },
  {
   "cell_type": "code",
   "execution_count": 74,
   "id": "877cc70e-57b2-4ad7-a430-f2412d47b4c7",
   "metadata": {},
   "outputs": [
    {
     "data": {
      "text/plain": [
       "array([[0.06458088, 0.61870211, 0.65792596],\n",
       "       [0.1198815 , 0.80681091, 0.33077861],\n",
       "       [0.03949375, 0.7601241 , 0.06569452]])"
      ]
     },
     "execution_count": 74,
     "metadata": {},
     "output_type": "execute_result"
    }
   ],
   "source": [
    "# random distribution it will select the random values\n",
    "np.random.rand(3,3)"
   ]
  },
  {
   "cell_type": "code",
   "execution_count": 76,
   "id": "2f731ce5-0343-40ae-a205-667feab41ef4",
   "metadata": {},
   "outputs": [],
   "source": [
    "arr_ex=np.random.rand(4,4)"
   ]
  },
  {
   "cell_type": "code",
   "execution_count": 78,
   "id": "74a27499-4c7a-4f21-a1c6-c8f58f4fa8e7",
   "metadata": {},
   "outputs": [
    {
     "data": {
      "text/plain": [
       "array([[0.99667726, 0.24172764, 0.43639526, 0.96139834],\n",
       "       [0.68267202, 0.25763605, 0.78891464, 0.25667533],\n",
       "       [0.92997334, 0.81784908, 0.24024032, 0.47745503],\n",
       "       [0.26837365, 0.71379793, 0.86290425, 0.38291464]])"
      ]
     },
     "execution_count": 78,
     "metadata": {},
     "output_type": "execute_result"
    }
   ],
   "source": [
    "arr_ex"
   ]
  },
  {
   "cell_type": "code",
   "execution_count": 80,
   "id": "7aeff0b0-50bd-4b7f-9c10-3ed481686896",
   "metadata": {},
   "outputs": [],
   "source": [
    "import seaborn as sns\n",
    "import pandas as pd"
   ]
  },
  {
   "cell_type": "code",
   "execution_count": 81,
   "id": "48838dcf-6531-42b9-9bf0-dc990cce67ff",
   "metadata": {},
   "outputs": [
    {
     "name": "stderr",
     "output_type": "stream",
     "text": [
      "C:\\Users\\aarya\\AppData\\Local\\Temp\\ipykernel_10040\\1832295236.py:1: UserWarning: \n",
      "\n",
      "`distplot` is a deprecated function and will be removed in seaborn v0.14.0.\n",
      "\n",
      "Please adapt your code to use either `displot` (a figure-level function with\n",
      "similar flexibility) or `histplot` (an axes-level function for histograms).\n",
      "\n",
      "For a guide to updating your code to use the new functions, please see\n",
      "https://gist.github.com/mwaskom/de44147ed2974457ad6372750bbe5751\n",
      "\n",
      "  sns.distplot(pd.DataFrame(arr_ex.reshape(16,1)))\n"
     ]
    },
    {
     "data": {
      "text/plain": [
       "<Axes: ylabel='Density'>"
      ]
     },
     "execution_count": 81,
     "metadata": {},
     "output_type": "execute_result"
    },
    {
     "data": {
      "image/png": "[encoded data removed]",
      "text/plain": [
       "<Figure size 640x480 with 1 Axes>"
      ]
     },
     "metadata": {},
     "output_type": "display_data"
    }
   ],
   "source": [
    "sns.distplot(pd.DataFrame(arr_ex.reshape(16,1)))"
   ]
  },
  {
   "cell_type": "code",
   "execution_count": 82,
   "id": "0d2dbbd1-e6ff-4267-961c-a6e20c58082b",
   "metadata": {},
   "outputs": [
    {
     "data": {
      "text/plain": [
       "array([[ 4, 11,  4,  6,  5],\n",
       "       [ 8,  7, 16, 19,  6],\n",
       "       [ 6, 12,  2, 15, 19],\n",
       "       [ 4,  1,  5, 18, 17]])"
      ]
     },
     "execution_count": 82,
     "metadata": {},
     "output_type": "execute_result"
    }
   ],
   "source": [
    "np.random.randint(0,20,20).reshape(4,5)"
   ]
  },
  {
   "cell_type": "code",
   "execution_count": 83,
   "id": "603c0a8d-97f8-4e01-8595-e6f1616097d8",
   "metadata": {},
   "outputs": [
    {
     "data": {
      "text/plain": [
       "array([[0.33064588, 0.95362246, 0.75502603, 0.5982004 , 0.44933231]])"
      ]
     },
     "execution_count": 83,
     "metadata": {},
     "output_type": "execute_result"
    }
   ],
   "source": [
    "# here the first bracket for the sample and second is for the array\n",
    "np.random.random_sample((1,5))"
   ]
  }
 ],
 "metadata": {
  "kernelspec": {
   "display_name": "Python [conda env:base] *",
   "language": "python",
   "name": "conda-base-py"
  },
  "language_info": {
   "codemirror_mode": {
    "name": "ipython",
    "version": 3
   },
   "file_extension": ".py",
   "mimetype": "text/x-python",
   "name": "python",
   "nbconvert_exporter": "python",
   "pygments_lexer": "ipython3",
   "version": "3.12.7"
  }
 },
 "nbformat": 4,
 "nbformat_minor": 5
}
